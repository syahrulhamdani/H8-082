{
 "cells": [
  {
   "cell_type": "markdown",
   "id": "5459594b-eeee-4e97-bce2-4d66378221f0",
   "metadata": {},
   "source": [
    "# Sesi 2 - Control Flow\n",
    "\n",
    "Outline:\n",
    "* Conditional statements\n",
    "* Looping\n",
    "    * While loop\n",
    "    * For loop"
   ]
  },
  {
   "cell_type": "code",
   "execution_count": 1,
   "id": "f5ba6cee-d422-46df-9924-c7c5281730a2",
   "metadata": {},
   "outputs": [
    {
     "name": "stdout",
     "output_type": "stream",
     "text": [
      "width: 10\n",
      "height: 5\n",
      "new width: 11\n",
      "new height: 4\n"
     ]
    }
   ],
   "source": [
    "width = 10\n",
    "height = 5\n",
    "\n",
    "print(\"width:\", width)\n",
    "print(\"height:\", height)\n",
    "\n",
    "width = 11\n",
    "height = 4\n",
    "\n",
    "print(\"new width:\", width)\n",
    "print(\"new height:\", height)"
   ]
  },
  {
   "cell_type": "code",
   "execution_count": 2,
   "id": "1a16b4b4-02bd-4cfc-ac37-712664c13bf7",
   "metadata": {},
   "outputs": [
    {
     "name": "stdout",
     "output_type": "stream",
     "text": [
      "width: 10\n",
      "height: 5\n",
      "new width: 11\n",
      "new height: 4\n"
     ]
    }
   ],
   "source": [
    "width = 10\n",
    "height = 5\n",
    "\n",
    "print(\"width:\", width)\n",
    "print(\"height:\", height)\n",
    "\n",
    "if height >= 5:\n",
    "    width = 11\n",
    "    height = 4\n",
    "\n",
    "print(\"new width:\", width)\n",
    "print(\"new height:\", height)"
   ]
  },
  {
   "cell_type": "code",
   "execution_count": 4,
   "id": "7f2daaa5-63ea-4cd1-b0de-0bbaed590d18",
   "metadata": {},
   "outputs": [
    {
     "name": "stdout",
     "output_type": "stream",
     "text": [
      "width: 10\n",
      "height: 3\n",
      "new width: 10\n",
      "new height: 3\n"
     ]
    }
   ],
   "source": [
    "width = 10\n",
    "height = 3\n",
    "\n",
    "print(\"width:\", width)\n",
    "print(\"height:\", height)\n",
    "\n",
    "if height >= 5:\n",
    "    width = 11\n",
    "    height = 4\n",
    "\n",
    "print(\"new width:\", width)\n",
    "print(\"new height:\", height)"
   ]
  },
  {
   "cell_type": "code",
   "execution_count": 5,
   "id": "a4116727-6ef4-47ec-85ea-43b5ba388ab0",
   "metadata": {},
   "outputs": [
    {
     "name": "stdout",
     "output_type": "stream",
     "text": [
      "11\n",
      "4\n"
     ]
    }
   ],
   "source": [
    "width = 11\n",
    "height = 4\n",
    "\n",
    "if width < height:\n",
    "    print(width)\n",
    "\n",
    "if width > height:\n",
    "    print(width)\n",
    "\n",
    "if width <= height:\n",
    "    print(height)\n",
    "\n",
    "if width >= height:\n",
    "    print(height)\n",
    "\n",
    "if width + height > 20:\n",
    "    print(width + height)"
   ]
  },
  {
   "cell_type": "code",
   "execution_count": 10,
   "id": "74979dd1-389e-47f7-b719-eb0419edadfa",
   "metadata": {},
   "outputs": [
    {
     "name": "stdout",
     "output_type": "stream",
     "text": [
      "15\n",
      "Still outside if statement 1\n",
      "Outside if statement\n",
      "Still outside if statement 2\n"
     ]
    }
   ],
   "source": [
    "is_now = True\n",
    "is_yesterday = False\n",
    "\n",
    "if is_now:\n",
    "    print(width + height)\n",
    "\n",
    "print(\"Still outside if statement 1\")\n",
    "\n",
    "if is_yesterday:\n",
    "    print(width + height)\n",
    "\n",
    "print(\"Outside if statement\")\n",
    "print(\"Still outside if statement 2\")"
   ]
  },
  {
   "cell_type": "code",
   "execution_count": 11,
   "id": "c8b0209c-b180-449a-829c-424e26a97902",
   "metadata": {},
   "outputs": [
    {
     "name": "stdout",
     "output_type": "stream",
     "text": [
      "['christina', 'liana', 'budi', 'joice', 'elianti', 'genta', 'qorin', 'robin']\n"
     ]
    }
   ],
   "source": [
    "names = [\n",
    "    \"christina\", \"liana\", \"budi\",\n",
    "    \"joice\", \"elianti\", \"genta\", \"qorin\", \"robin\",\n",
    "]\n",
    "print(names)"
   ]
  },
  {
   "cell_type": "code",
   "execution_count": 15,
   "id": "f7b6fb6d-1f70-41c3-bd19-265bb69a67da",
   "metadata": {},
   "outputs": [
    {
     "data": {
      "text/plain": [
       "True"
      ]
     },
     "execution_count": 15,
     "metadata": {},
     "output_type": "execute_result"
    }
   ],
   "source": [
    "\"budi\" in names"
   ]
  },
  {
   "cell_type": "code",
   "execution_count": 24,
   "id": "644fb620-008d-4cc7-92c9-cd862877f811",
   "metadata": {},
   "outputs": [
    {
     "name": "stdout",
     "output_type": "stream",
     "text": [
      "True\n",
      "False\n"
     ]
    }
   ],
   "source": [
    "print(\"GENTA\" == \"GENTA\")\n",
    "print(\"GENTA\" == \"GENTA \")"
   ]
  },
  {
   "cell_type": "code",
   "execution_count": 25,
   "id": "f4cf0ddd-11b7-4c77-aaa6-b8ee8c5205f6",
   "metadata": {},
   "outputs": [
    {
     "name": "stdout",
     "output_type": "stream",
     "text": [
      "Inside if\n",
      "width > height\n",
      "Between inner if\n",
      "After if statement\n"
     ]
    }
   ],
   "source": [
    "width = 10\n",
    "height = 5\n",
    "\n",
    "if \"genta\" in names:\n",
    "    print(\"Inside if\")\n",
    "\n",
    "    if width / height == 2:\n",
    "        print(\"width > height\")\n",
    "\n",
    "    print(\"Between inner if\")\n",
    "\n",
    "    if width * height > 50:\n",
    "        print(\"it's large\")\n",
    "print(\"After if statement\")"
   ]
  },
  {
   "cell_type": "code",
   "execution_count": 27,
   "id": "8c22724a-c06e-44a5-9d87-f12dc3b360f5",
   "metadata": {},
   "outputs": [
    {
     "name": "stdout",
     "output_type": "stream",
     "text": [
      "Inside if\n",
      "width > height\n",
      "Between inner if\n",
      "After if statement\n"
     ]
    }
   ],
   "source": [
    "name = \"genta\"\n",
    "\n",
    "if name in names:\n",
    "    print(\"Inside if\")\n",
    "\n",
    "    if width / height == 2:\n",
    "        print(\"width > height\")\n",
    "\n",
    "    print(\"Between inner if\")\n",
    "\n",
    "    if width * height > 50:\n",
    "        print(\"it's large\")\n",
    "else:\n",
    "    print(name, \"is not in names\")\n",
    "print(\"After if statement\")"
   ]
  },
  {
   "cell_type": "code",
   "execution_count": 29,
   "id": "6c20de7b-9184-45c4-9402-bd775987213b",
   "metadata": {},
   "outputs": [
    {
     "name": "stdout",
     "output_type": "stream",
     "text": [
      "Inside if\n",
      "width > height\n",
      "Between inner if\n",
      "genta is not in names\n",
      "After if statement\n"
     ]
    }
   ],
   "source": [
    "name = \"genta\"\n",
    "\n",
    "if name in names:\n",
    "    print(\"Inside if\")\n",
    "\n",
    "    if width / height == 2:\n",
    "        print(\"width > height\")\n",
    "\n",
    "    print(\"Between inner if\")\n",
    "\n",
    "    if width * height > 50:\n",
    "        print(\"it's large\")\n",
    "if True:\n",
    "    print(name, \"is not in names\")\n",
    "print(\"After if statement\")"
   ]
  },
  {
   "cell_type": "code",
   "execution_count": 40,
   "id": "41e49dc4-3d37-4738-ab9c-6396f4126947",
   "metadata": {},
   "outputs": [
    {
     "name": "stdout",
     "output_type": "stream",
     "text": [
      "checking genta\n",
      "Inside if\n",
      "width > height\n",
      "Between inner if\n",
      "After if statement\n"
     ]
    }
   ],
   "source": [
    "name_1 = \"genta\"\n",
    "name_2 = \"liana\"\n",
    "\n",
    "if name_1 in names:\n",
    "    print(\"checking\", name_1)\n",
    "    print(\"Inside if\")\n",
    "\n",
    "    if width / height == 2:\n",
    "        print(\"width > height\")\n",
    "\n",
    "    print(\"Between inner if\")\n",
    "\n",
    "    if width * height > 50:\n",
    "        print(\"it's large\")\n",
    "elif name_2 in names:\n",
    "    print(\"Checking\", name_2)\n",
    "    print(name_2, \"is not in names\")\n",
    "elif name_1.lower() in names:\n",
    "    print(\"checking\", name_1.lower())\n",
    "    print(name_1, \"is not in names\")\n",
    "    print(name_1.lower(), \"is in names\")\n",
    "else:\n",
    "    print(name, \"is not in names\")\n",
    "print(\"After if statement\")"
   ]
  },
  {
   "cell_type": "code",
   "execution_count": 41,
   "id": "9780a110-a88b-4158-9671-5480c092ab6b",
   "metadata": {},
   "outputs": [
    {
     "name": "stdout",
     "output_type": "stream",
     "text": [
      "['christina', 'liana', 'budi', 'joice', 'elianti', 'genta', 'qorin', 'robin']\n"
     ]
    }
   ],
   "source": [
    "print(names)"
   ]
  },
  {
   "cell_type": "code",
   "execution_count": 48,
   "id": "513b9a57-6b33-46ce-83e3-2e121e0d6b9b",
   "metadata": {},
   "outputs": [
    {
     "name": "stdout",
     "output_type": "stream",
     "text": [
      "0 Liana\n",
      "1 Budi\n",
      "2 Dani\n"
     ]
    }
   ],
   "source": [
    "new_names = [\"Liana\", \"Budi\", \"Dani\", \"Qorin\", \"robin\"]\n",
    "\n",
    "index = 0\n",
    "name = new_names[index]\n",
    "print(index, name)\n",
    "\n",
    "if name not in names:\n",
    "    index = index + 1\n",
    "    name = new_names[index]\n",
    "    print(index, name)\n",
    "\n",
    "    if name in names:\n",
    "        print(names.index(name))\n",
    "    else:\n",
    "        index = index + 1\n",
    "        name = new_names[index]\n",
    "        print(index, name)\n",
    "elif new_names[index+3] not in names:\n",
    "    print(new_names[index+3])\n",
    "    index = index+1\n",
    "    name = new_names[index]\n",
    "    print(name)\n",
    "\n",
    "    if name in names:\n",
    "        print(name)\n",
    "        print(names.index(name))\n",
    "    else:\n",
    "        index = index + 1\n",
    "        name = new_names[index]\n",
    "else:\n",
    "    print(name)\n",
    "    print(\"Nothing to print\")"
   ]
  },
  {
   "cell_type": "code",
   "execution_count": 46,
   "id": "d3033f12-1896-46b2-9205-5ef268b09e21",
   "metadata": {},
   "outputs": [
    {
     "name": "stdout",
     "output_type": "stream",
     "text": [
      "2 Dani\n"
     ]
    }
   ],
   "source": [
    "print(index, name)"
   ]
  },
  {
   "cell_type": "markdown",
   "id": "e051df8c-4341-4279-9efb-f4a9e2b14843",
   "metadata": {},
   "source": [
    "## While Loop"
   ]
  },
  {
   "cell_type": "code",
   "execution_count": 49,
   "id": "a25c6622-ee64-4c14-9f4d-ba9705a03ebe",
   "metadata": {},
   "outputs": [
    {
     "name": "stdout",
     "output_type": "stream",
     "text": [
      "1\n",
      "2\n",
      "3\n",
      "4\n",
      "5\n"
     ]
    }
   ],
   "source": [
    "print(1)\n",
    "print(2)\n",
    "print(3)\n",
    "print(4)\n",
    "print(5)"
   ]
  },
  {
   "cell_type": "code",
   "execution_count": 50,
   "id": "b61f515c-cf44-4982-9422-11e51ecbddfc",
   "metadata": {},
   "outputs": [
    {
     "name": "stdout",
     "output_type": "stream",
     "text": [
      "0\n",
      "1\n",
      "2\n",
      "3\n",
      "4\n",
      "5\n",
      "6\n",
      "7\n",
      "8\n",
      "9\n",
      "Looping stopped\n"
     ]
    }
   ],
   "source": [
    "index = 0\n",
    "\n",
    "while index < 10:\n",
    "    print(index)\n",
    "    index += 1\n",
    "print(\"Looping stopped\")"
   ]
  },
  {
   "cell_type": "code",
   "execution_count": 51,
   "id": "bd40d046-9edb-4cdb-a129-84844695acc9",
   "metadata": {},
   "outputs": [
    {
     "name": "stdout",
     "output_type": "stream",
     "text": [
      "christina\n",
      "liana\n",
      "budi\n"
     ]
    }
   ],
   "source": [
    "print(names[0])\n",
    "print(names[1])\n",
    "print(names[2])"
   ]
  },
  {
   "cell_type": "code",
   "execution_count": 52,
   "id": "13aa7b8d-0c2c-4d11-8e42-0a1e875e8ad3",
   "metadata": {},
   "outputs": [
    {
     "ename": "IndexError",
     "evalue": "list index out of range",
     "output_type": "error",
     "traceback": [
      "\u001b[0;31m---------------------------------------------------------------------------\u001b[0m",
      "\u001b[0;31mIndexError\u001b[0m                                Traceback (most recent call last)",
      "Input \u001b[0;32mIn [52]\u001b[0m, in \u001b[0;36m<cell line: 1>\u001b[0;34m()\u001b[0m\n\u001b[0;32m----> 1\u001b[0m \u001b[43mnames\u001b[49m\u001b[43m[\u001b[49m\u001b[38;5;241;43m9\u001b[39;49m\u001b[43m]\u001b[49m\n",
      "\u001b[0;31mIndexError\u001b[0m: list index out of range"
     ]
    }
   ],
   "source": [
    "names[9]"
   ]
  },
  {
   "cell_type": "code",
   "execution_count": 53,
   "id": "c1bb50a8-e5bc-4b6f-a10b-d4d2516dc17c",
   "metadata": {},
   "outputs": [
    {
     "name": "stdout",
     "output_type": "stream",
     "text": [
      "8\n"
     ]
    }
   ],
   "source": [
    "print(len(names))"
   ]
  },
  {
   "cell_type": "code",
   "execution_count": 54,
   "id": "5eb14456-f6ce-4fd1-ad86-b378410fc9bc",
   "metadata": {},
   "outputs": [
    {
     "name": "stdout",
     "output_type": "stream",
     "text": [
      "name: christina\n",
      "name: liana\n",
      "name: budi\n",
      "name: joice\n",
      "name: elianti\n",
      "name: genta\n",
      "name: qorin\n",
      "name: robin\n",
      "Looping stopped\n"
     ]
    }
   ],
   "source": [
    "index = 0\n",
    "\n",
    "while index < len(names):\n",
    "    print(\"name:\", names[index])\n",
    "    index += 1\n",
    "\n",
    "print(\"Looping stopped\")"
   ]
  },
  {
   "cell_type": "code",
   "execution_count": 56,
   "id": "bf9de871-2d03-4cad-95ea-70075b479a24",
   "metadata": {},
   "outputs": [
    {
     "name": "stdout",
     "output_type": "stream",
     "text": [
      "current index: 0\n",
      "name: christina\n",
      "updated index: 1\n",
      "current index: 1\n",
      "name: liana\n",
      "updated index: 2\n",
      "current index: 2\n",
      "name: budi\n",
      "updated index: 3\n",
      "current index: 3\n",
      "name: joice\n",
      "updated index: 4\n",
      "current index: 4\n",
      "name: elianti\n",
      "updated index: 5\n",
      "current index: 5\n",
      "name: genta\n",
      "updated index: 6\n",
      "current index: 6\n",
      "name: qorin\n",
      "updated index: 7\n",
      "current index: 7\n",
      "name: robin\n",
      "updated index: 8\n",
      "current index: 8\n"
     ]
    },
    {
     "ename": "IndexError",
     "evalue": "list index out of range",
     "output_type": "error",
     "traceback": [
      "\u001b[0;31m---------------------------------------------------------------------------\u001b[0m",
      "\u001b[0;31mIndexError\u001b[0m                                Traceback (most recent call last)",
      "Input \u001b[0;32mIn [56]\u001b[0m, in \u001b[0;36m<cell line: 3>\u001b[0;34m()\u001b[0m\n\u001b[1;32m      3\u001b[0m \u001b[38;5;28;01mwhile\u001b[39;00m index \u001b[38;5;241m<\u001b[39m \u001b[38;5;241m10\u001b[39m:\n\u001b[1;32m      4\u001b[0m     \u001b[38;5;28mprint\u001b[39m(\u001b[38;5;124m\"\u001b[39m\u001b[38;5;124mcurrent index:\u001b[39m\u001b[38;5;124m\"\u001b[39m, index)\n\u001b[0;32m----> 5\u001b[0m     \u001b[38;5;28mprint\u001b[39m(\u001b[38;5;124m\"\u001b[39m\u001b[38;5;124mname:\u001b[39m\u001b[38;5;124m\"\u001b[39m, \u001b[43mnames\u001b[49m\u001b[43m[\u001b[49m\u001b[43mindex\u001b[49m\u001b[43m]\u001b[49m)\n\u001b[1;32m      6\u001b[0m     index \u001b[38;5;241m+\u001b[39m\u001b[38;5;241m=\u001b[39m \u001b[38;5;241m1\u001b[39m\n\u001b[1;32m      7\u001b[0m     \u001b[38;5;28mprint\u001b[39m(\u001b[38;5;124m\"\u001b[39m\u001b[38;5;124mupdated index:\u001b[39m\u001b[38;5;124m\"\u001b[39m, index)\n",
      "\u001b[0;31mIndexError\u001b[0m: list index out of range"
     ]
    }
   ],
   "source": [
    "index = 0\n",
    "\n",
    "while index < 10:\n",
    "    print(\"current index:\", index)\n",
    "    print(\"name:\", names[index])\n",
    "    index += 1\n",
    "    print(\"updated index:\", index)\n",
    "\n",
    "print(\"Looping stopped\")"
   ]
  },
  {
   "cell_type": "code",
   "execution_count": 60,
   "id": "e0c2507a-964d-463b-bcb5-ba1b186a870e",
   "metadata": {},
   "outputs": [
    {
     "name": "stdout",
     "output_type": "stream",
     "text": [
      "4! = 24\n",
      "5! = 120 1 2 3 4 5\n"
     ]
    }
   ],
   "source": [
    "print(\"4! =\", 24)\n",
    "print(\"5! =\", 120, 1, 2, 3, 4, 5)"
   ]
  },
  {
   "cell_type": "code",
   "execution_count": 65,
   "id": "7f4211e9-8f35-49fa-b4a0-0596256fbd72",
   "metadata": {},
   "outputs": [
    {
     "name": "stdout",
     "output_type": "stream",
     "text": [
      "3! = 6\n"
     ]
    }
   ],
   "source": [
    "n = 3\n",
    "result = 1\n",
    "i = 1\n",
    "\n",
    "while i <= n:\n",
    "    result = result * i\n",
    "    i = i + 1\n",
    "\n",
    "print(\"{}! = {}\".format(n, result))"
   ]
  },
  {
   "cell_type": "code",
   "execution_count": 68,
   "id": "c658463a-5217-4cb9-b0a3-f9be77f68842",
   "metadata": {},
   "outputs": [
    {
     "name": "stdout",
     "output_type": "stream",
     "text": [
      "4\n",
      "3\n",
      "Loop end!\n"
     ]
    }
   ],
   "source": [
    "n = 5\n",
    "\n",
    "while n > 0:\n",
    "    n -= 1\n",
    "    if n == 2:\n",
    "        break\n",
    "        print(\"n:\", n)\n",
    "    print(n)\n",
    "print(\"Loop end!\")"
   ]
  },
  {
   "cell_type": "code",
   "execution_count": 69,
   "id": "67ec558b-f039-4565-a23a-fff52388becd",
   "metadata": {},
   "outputs": [
    {
     "name": "stdout",
     "output_type": "stream",
     "text": [
      "4\n",
      "3\n",
      "n: 2\n",
      "Loop end!\n"
     ]
    }
   ],
   "source": [
    "n = 5\n",
    "\n",
    "while n > 0:\n",
    "    n -= 1\n",
    "    if n == 2:\n",
    "        print(\"n:\", n)\n",
    "        break\n",
    "    print(n)\n",
    "print(\"Loop end!\")"
   ]
  },
  {
   "cell_type": "code",
   "execution_count": 72,
   "id": "a80602f0-fbd1-4c12-8ac8-17372e60156b",
   "metadata": {},
   "outputs": [
    {
     "name": "stdout",
     "output_type": "stream",
     "text": [
      "si\n",
      "i\n"
     ]
    },
    {
     "ename": "TypeError",
     "evalue": "'str' object does not support item assignment",
     "output_type": "error",
     "traceback": [
      "\u001b[0;31m---------------------------------------------------------------------------\u001b[0m",
      "\u001b[0;31mTypeError\u001b[0m                                 Traceback (most recent call last)",
      "Input \u001b[0;32mIn [72]\u001b[0m, in \u001b[0;36m<cell line: 5>\u001b[0;34m()\u001b[0m\n\u001b[1;32m      2\u001b[0m \u001b[38;5;28mprint\u001b[39m(name[:\u001b[38;5;241m2\u001b[39m])\n\u001b[1;32m      3\u001b[0m \u001b[38;5;28mprint\u001b[39m(name[\u001b[38;5;241m-\u001b[39m\u001b[38;5;241m1\u001b[39m])\n\u001b[0;32m----> 5\u001b[0m name[\u001b[38;5;241m0\u001b[39m] \u001b[38;5;241m=\u001b[39m \u001b[38;5;124m\"\u001b[39m\u001b[38;5;124mz\u001b[39m\u001b[38;5;124m\"\u001b[39m\n",
      "\u001b[0;31mTypeError\u001b[0m: 'str' object does not support item assignment"
     ]
    }
   ],
   "source": [
    "name = \"siti\"\n",
    "print(name[:2])\n",
    "print(name[-1])\n",
    "\n",
    "name[0] = \"z\""
   ]
  },
  {
   "cell_type": "code",
   "execution_count": 73,
   "id": "9b4d0c3e-1c6f-4906-ac94-b487bc7fbeb4",
   "metadata": {},
   "outputs": [
    {
     "name": "stdout",
     "output_type": "stream",
     "text": [
      "name: christina\n",
      "name: liana\n",
      "name: joice\n",
      "name: elianti\n",
      "name: genta\n",
      "name: qorin\n",
      "name: robin\n",
      "Looping stopped\n"
     ]
    }
   ],
   "source": [
    "index = 0\n",
    "\n",
    "while index < len(names):\n",
    "    if len(names[index]) > 4:\n",
    "        print(\"name:\", names[index])\n",
    "    index += 1\n",
    "\n",
    "print(\"Looping stopped\")"
   ]
  },
  {
   "cell_type": "code",
   "execution_count": 75,
   "id": "804677ac-ad4e-4efd-94a8-b26050bd56e2",
   "metadata": {},
   "outputs": [
    {
     "name": "stdout",
     "output_type": "stream",
     "text": [
      "name: christina\n",
      "name: liana\n",
      "Looping stopped\n"
     ]
    }
   ],
   "source": [
    "index = 0\n",
    "\n",
    "while index < len(names):\n",
    "    if len(names[index]) > 4:\n",
    "        print(\"name:\", names[index])\n",
    "    else:\n",
    "        break\n",
    "    index += 1\n",
    "\n",
    "print(\"Looping stopped\")"
   ]
  },
  {
   "cell_type": "code",
   "execution_count": 76,
   "id": "5520495d-3fff-405a-8187-3e55517b75ed",
   "metadata": {},
   "outputs": [
    {
     "name": "stdout",
     "output_type": "stream",
     "text": [
      "2\n"
     ]
    }
   ],
   "source": [
    "print(index)"
   ]
  },
  {
   "cell_type": "markdown",
   "id": "d5bb3b4e-1074-48ef-a849-a6c864a05d79",
   "metadata": {},
   "source": [
    "## For Loop"
   ]
  },
  {
   "cell_type": "code",
   "execution_count": 77,
   "id": "2a31cc25-1cc0-46c9-a26c-4a9d4f71b138",
   "metadata": {},
   "outputs": [
    {
     "name": "stdout",
     "output_type": "stream",
     "text": [
      "name: christina\n",
      "name: liana\n",
      "name: budi\n",
      "name: joice\n",
      "name: elianti\n",
      "name: genta\n",
      "name: qorin\n",
      "name: robin\n",
      "Looping stopped\n"
     ]
    }
   ],
   "source": [
    "index = 0\n",
    "\n",
    "while index < len(names):\n",
    "    print(\"name:\", names[index])\n",
    "    index += 1\n",
    "\n",
    "print(\"Looping stopped\")"
   ]
  },
  {
   "cell_type": "code",
   "execution_count": 78,
   "id": "1805b410-26af-42c5-a6b2-644f3b6a9297",
   "metadata": {},
   "outputs": [
    {
     "name": "stdout",
     "output_type": "stream",
     "text": [
      "name: christina\n",
      "name: liana\n",
      "name: budi\n",
      "name: joice\n",
      "name: elianti\n",
      "name: genta\n",
      "name: qorin\n",
      "name: robin\n",
      "Looping stopped\n"
     ]
    }
   ],
   "source": [
    "for name in names:\n",
    "    print(\"name:\", name)\n",
    "print(\"Looping stopped\")"
   ]
  },
  {
   "cell_type": "code",
   "execution_count": 79,
   "id": "7ffcd7b4-2b72-461a-97c2-f7480356a1ee",
   "metadata": {},
   "outputs": [
    {
     "name": "stdout",
     "output_type": "stream",
     "text": [
      "robin\n"
     ]
    }
   ],
   "source": [
    "print(name)"
   ]
  },
  {
   "cell_type": "code",
   "execution_count": 80,
   "id": "3ab170a4-9288-488c-be83-a79ea0e342e3",
   "metadata": {},
   "outputs": [
    {
     "name": "stdout",
     "output_type": "stream",
     "text": [
      "r\n",
      "o\n",
      "b\n",
      "i\n",
      "n\n"
     ]
    }
   ],
   "source": [
    "for char in name:\n",
    "    print(char)"
   ]
  },
  {
   "cell_type": "code",
   "execution_count": 81,
   "id": "1741c785-cde4-4af3-adb6-3debdd025855",
   "metadata": {},
   "outputs": [
    {
     "name": "stdout",
     "output_type": "stream",
     "text": [
      "(10, 5)\n",
      "10\n",
      "5\n"
     ]
    }
   ],
   "source": [
    "props = (width, height)\n",
    "print(props)\n",
    "\n",
    "for prop in props:\n",
    "    print(prop)"
   ]
  },
  {
   "cell_type": "code",
   "execution_count": 82,
   "id": "660555e4-f16c-4ee7-8284-f5a0af8ea09d",
   "metadata": {},
   "outputs": [
    {
     "name": "stdout",
     "output_type": "stream",
     "text": [
      "name: christina .. num characters: 9\n",
      "c\n",
      "h\n",
      "r\n",
      "i\n",
      "s\n",
      "t\n",
      "i\n",
      "n\n",
      "a\n",
      "name: liana .. num characters: 5\n",
      "l\n",
      "i\n",
      "a\n",
      "n\n",
      "a\n",
      "name: budi .. num characters: 4\n",
      "b\n",
      "u\n",
      "d\n",
      "i\n",
      "name: joice .. num characters: 5\n",
      "j\n",
      "o\n",
      "i\n",
      "c\n",
      "e\n",
      "name: elianti .. num characters: 7\n",
      "e\n",
      "l\n",
      "i\n",
      "a\n",
      "n\n",
      "t\n",
      "i\n",
      "name: genta .. num characters: 5\n",
      "g\n",
      "e\n",
      "n\n",
      "t\n",
      "a\n",
      "name: qorin .. num characters: 5\n",
      "q\n",
      "o\n",
      "r\n",
      "i\n",
      "n\n",
      "name: robin .. num characters: 5\n",
      "r\n",
      "o\n",
      "b\n",
      "i\n",
      "n\n"
     ]
    }
   ],
   "source": [
    "for name in names:\n",
    "    print(\"name:\", name, \".. num characters:\", len(name))\n",
    "\n",
    "    for char in name:\n",
    "        print(char)"
   ]
  },
  {
   "cell_type": "code",
   "execution_count": 83,
   "id": "80538a3e-f23a-4f31-8d9c-1814970e2aba",
   "metadata": {},
   "outputs": [
    {
     "name": "stdout",
     "output_type": "stream",
     "text": [
      "1\n",
      "2\n",
      "3\n",
      "4\n",
      "5\n",
      "6\n",
      "7\n",
      "8\n",
      "9\n",
      "10\n"
     ]
    }
   ],
   "source": [
    "numbers = [1, 2, 3, 4, 5, 6, 7, 8, 9, 10]\n",
    "\n",
    "for number in numbers:\n",
    "    print(number)"
   ]
  },
  {
   "cell_type": "code",
   "execution_count": 85,
   "id": "35e910ae-6ca4-446f-bfb2-10a092407494",
   "metadata": {},
   "outputs": [
    {
     "data": {
      "text/plain": [
       "(range(0, 5), range)"
      ]
     },
     "execution_count": 85,
     "metadata": {},
     "output_type": "execute_result"
    }
   ],
   "source": [
    "range(5), type(range(5))"
   ]
  },
  {
   "cell_type": "code",
   "execution_count": 86,
   "id": "88653d3c-75c9-4aa7-8e66-c258fa8b030b",
   "metadata": {},
   "outputs": [
    {
     "data": {
      "text/plain": [
       "range(0, 10)"
      ]
     },
     "execution_count": 86,
     "metadata": {},
     "output_type": "execute_result"
    }
   ],
   "source": [
    "range(10)"
   ]
  },
  {
   "cell_type": "code",
   "execution_count": 87,
   "id": "3ea08936-f544-4846-b651-263b9cf171dd",
   "metadata": {},
   "outputs": [
    {
     "data": {
      "text/plain": [
       "range(1, 11)"
      ]
     },
     "execution_count": 87,
     "metadata": {},
     "output_type": "execute_result"
    }
   ],
   "source": [
    "range(1, 11)"
   ]
  },
  {
   "cell_type": "code",
   "execution_count": 88,
   "id": "cb68b7af-8b77-4523-ac29-b29ce7aed896",
   "metadata": {},
   "outputs": [
    {
     "name": "stdout",
     "output_type": "stream",
     "text": [
      "0\n",
      "1\n",
      "2\n",
      "3\n",
      "4\n"
     ]
    }
   ],
   "source": [
    "for i in range(5):\n",
    "    print(i)"
   ]
  },
  {
   "cell_type": "code",
   "execution_count": 89,
   "id": "6a17d11a-e461-41b6-bbcf-12098df55c8b",
   "metadata": {},
   "outputs": [
    {
     "name": "stdout",
     "output_type": "stream",
     "text": [
      "0\n",
      "1\n",
      "2\n",
      "3\n",
      "4\n",
      "5\n",
      "6\n",
      "7\n",
      "8\n",
      "9\n"
     ]
    }
   ],
   "source": [
    "for i in range(10):\n",
    "    print(i)"
   ]
  },
  {
   "cell_type": "code",
   "execution_count": 90,
   "id": "d150b9f7-ce96-4998-b420-4893acec1c16",
   "metadata": {},
   "outputs": [
    {
     "name": "stdout",
     "output_type": "stream",
     "text": [
      "0\n",
      "1\n",
      "2\n",
      "3\n",
      "4\n",
      "5\n",
      "6\n",
      "7\n",
      "8\n",
      "9\n"
     ]
    }
   ],
   "source": [
    "for i in range(0, 10):\n",
    "    print(i)"
   ]
  },
  {
   "cell_type": "code",
   "execution_count": 91,
   "id": "60330491-cf0b-442c-931c-631ca7e12b02",
   "metadata": {},
   "outputs": [
    {
     "name": "stdout",
     "output_type": "stream",
     "text": [
      "1\n",
      "2\n",
      "3\n",
      "4\n",
      "5\n",
      "6\n",
      "7\n",
      "8\n",
      "9\n",
      "10\n"
     ]
    }
   ],
   "source": [
    "for i in range(1, 11):\n",
    "    print(i)"
   ]
  },
  {
   "cell_type": "code",
   "execution_count": 93,
   "id": "1072f78f-941d-49b6-9430-59bd2ddfc0dc",
   "metadata": {},
   "outputs": [
    {
     "name": "stdout",
     "output_type": "stream",
     "text": [
      "['christina', 'liana', 'budi', 'joice', 'elianti', 'genta', 'qorin', 'robin']\n"
     ]
    }
   ],
   "source": [
    "print(names)"
   ]
  },
  {
   "cell_type": "code",
   "execution_count": 94,
   "id": "ec0c61c4-dd42-4b92-8828-62ed4581aed9",
   "metadata": {},
   "outputs": [
    {
     "name": "stdout",
     "output_type": "stream",
     "text": [
      "christina\n",
      "liana\n",
      "budi\n",
      "joice\n",
      "elianti\n",
      "genta\n",
      "qorin\n",
      "robin\n"
     ]
    }
   ],
   "source": [
    "for name in names:\n",
    "    print(name)"
   ]
  },
  {
   "cell_type": "code",
   "execution_count": 95,
   "id": "3f49e5ec-7ed2-4f43-9f5d-5cc5fae7bfe4",
   "metadata": {},
   "outputs": [
    {
     "name": "stdout",
     "output_type": "stream",
     "text": [
      "christina\n",
      "liana\n",
      "budi\n",
      "joice\n",
      "elianti\n",
      "genta\n",
      "qorin\n",
      "robin\n"
     ]
    }
   ],
   "source": [
    "for i in range(len(names)):\n",
    "    print(names[i])"
   ]
  },
  {
   "cell_type": "code",
   "execution_count": 134,
   "id": "cea1c521-ffbb-4ed7-8073-79d8137950b1",
   "metadata": {},
   "outputs": [
    {
     "name": "stdout",
     "output_type": "stream",
     "text": [
      "{'liana': 20, 'robin': 30, 'budi': 25} <class 'dict'>\n"
     ]
    }
   ],
   "source": [
    "name_to_age = {\"liana\": 20, \"robin\": 30, \"budi\": 25}\n",
    "print(name_to_age, type(name_to_age))"
   ]
  },
  {
   "cell_type": "code",
   "execution_count": 97,
   "id": "3ab44a38-7e6f-465b-be76-a0cb57f5d28c",
   "metadata": {},
   "outputs": [
    {
     "name": "stdout",
     "output_type": "stream",
     "text": [
      "liana\n",
      "robin\n",
      "budi\n"
     ]
    }
   ],
   "source": [
    "for name in name_to_age:\n",
    "    print(name)"
   ]
  },
  {
   "cell_type": "code",
   "execution_count": 98,
   "id": "3c60c8d7-bfa3-453c-b1e4-451107781e0d",
   "metadata": {},
   "outputs": [
    {
     "name": "stdout",
     "output_type": "stream",
     "text": [
      "christina -> Unknown\n",
      "liana -> 20\n",
      "budi -> 25\n",
      "joice -> Unknown\n",
      "elianti -> Unknown\n",
      "genta -> Unknown\n",
      "qorin -> Unknown\n",
      "robin -> 30\n"
     ]
    }
   ],
   "source": [
    "for name in names:\n",
    "    print(\"{} -> {}\".format(name, name_to_age.get(name, \"Unknown\")))"
   ]
  },
  {
   "cell_type": "code",
   "execution_count": 129,
   "id": "4432a40b-2970-4e95-a6a1-38de3c56622c",
   "metadata": {},
   "outputs": [
    {
     "name": "stdout",
     "output_type": "stream",
     "text": [
      "dict_keys(['liana', 'robin', 'budi']) <class 'dict_keys'>\n",
      "dict_values([20, 30, 25]) <class 'dict_values'>\n"
     ]
    }
   ],
   "source": [
    "print(name_to_age.keys(), type(name_to_age.keys()))\n",
    "print(name_to_age.values(), type(name_to_age.values()))"
   ]
  },
  {
   "cell_type": "code",
   "execution_count": 112,
   "id": "29f5e542-d66e-4fe6-8ced-dd37fc92af11",
   "metadata": {},
   "outputs": [
    {
     "data": {
      "text/plain": [
       "20"
      ]
     },
     "execution_count": 112,
     "metadata": {},
     "output_type": "execute_result"
    }
   ],
   "source": [
    "name_to_age[\"liana\"]"
   ]
  },
  {
   "cell_type": "code",
   "execution_count": 113,
   "id": "45af8166-1410-48a9-945a-316c70005c8d",
   "metadata": {},
   "outputs": [
    {
     "data": {
      "text/plain": [
       "25"
      ]
     },
     "execution_count": 113,
     "metadata": {},
     "output_type": "execute_result"
    }
   ],
   "source": [
    "name_to_age[\"budi\"]"
   ]
  },
  {
   "cell_type": "code",
   "execution_count": 100,
   "id": "e0040ef0-5037-4917-83bc-5bdf43002405",
   "metadata": {},
   "outputs": [
    {
     "name": "stdout",
     "output_type": "stream",
     "text": [
      "liana -> 20\n",
      "robin -> 30\n",
      "budi -> 25\n"
     ]
    }
   ],
   "source": [
    "for name in name_to_age.keys():\n",
    "    print(\"{} -> {}\".format(name, name_to_age[name]))"
   ]
  },
  {
   "cell_type": "code",
   "execution_count": 133,
   "id": "bb06b3be-e977-4474-b4c8-7dc6780257b7",
   "metadata": {},
   "outputs": [
    {
     "data": {
      "text/plain": [
       "dict_items([('liana', 20), ('robin', 30), ('budi', 25)])"
      ]
     },
     "execution_count": 133,
     "metadata": {},
     "output_type": "execute_result"
    }
   ],
   "source": [
    "name_to_age.items()"
   ]
  },
  {
   "cell_type": "code",
   "execution_count": 120,
   "id": "ddafa793-c2fc-4a5b-aa3a-2a6344f48968",
   "metadata": {},
   "outputs": [
    {
     "name": "stdout",
     "output_type": "stream",
     "text": [
      "[(1, 2, 3), (3, 4, 5), (5, 6)]\n"
     ]
    }
   ],
   "source": [
    "list_tuple = [(1, 2), (3, 4, 5), (5, 6)]\n",
    "print(list_tuple)"
   ]
  },
  {
   "cell_type": "code",
   "execution_count": 121,
   "id": "0fd3e45e-42b1-477e-8497-7ad304ce0bba",
   "metadata": {},
   "outputs": [
    {
     "data": {
      "text/plain": [
       "((1, 2, 3), (3, 4, 5))"
      ]
     },
     "execution_count": 121,
     "metadata": {},
     "output_type": "execute_result"
    }
   ],
   "source": [
    "list_tuple[0], list_tuple[1]"
   ]
  },
  {
   "cell_type": "code",
   "execution_count": 123,
   "id": "39a215e1-43c7-4291-b53b-462eb69948e9",
   "metadata": {},
   "outputs": [
    {
     "name": "stdout",
     "output_type": "stream",
     "text": [
      "(3, 4, 5)\n",
      "3\n",
      "4\n",
      "5\n"
     ]
    }
   ],
   "source": [
    "x, y, z = list_tuple[1]\n",
    "print(list_tuple[1])\n",
    "print(x)\n",
    "print(y)\n",
    "print(z)"
   ]
  },
  {
   "cell_type": "code",
   "execution_count": 127,
   "id": "378c1873-9074-445f-92f6-fbe41563bb4a",
   "metadata": {},
   "outputs": [
    {
     "name": "stdout",
     "output_type": "stream",
     "text": [
      "(1, 2) <class 'tuple'>\n",
      "1\n",
      "2\n",
      "(3, 4) <class 'tuple'>\n",
      "3\n",
      "4\n",
      "(5, 6) <class 'tuple'>\n",
      "5\n",
      "6\n",
      "1 2\n",
      "3 4\n",
      "5 6\n"
     ]
    }
   ],
   "source": [
    "list_tuple = [(1, 2), (3, 4), (5, 6)]\n",
    "\n",
    "for element in list_tuple:\n",
    "    e1, e2 = element\n",
    "    print(element, type(element))\n",
    "    print(e1)\n",
    "    print(e2)\n",
    "for e1, e2 in list_tuple:\n",
    "    print(e1, e2)"
   ]
  },
  {
   "cell_type": "code",
   "execution_count": 104,
   "id": "c49cd0e2-be6f-409d-b783-f8c4bdb19ad7",
   "metadata": {},
   "outputs": [
    {
     "name": "stdout",
     "output_type": "stream",
     "text": [
      "liana -> 20\n",
      "robin -> 30\n",
      "budi -> 25\n"
     ]
    }
   ],
   "source": [
    "for key, value in name_to_age.items():\n",
    "    print(\"{} -> {}\".format(key, value))"
   ]
  },
  {
   "cell_type": "code",
   "execution_count": 105,
   "id": "b378d600-8ee6-46fe-93f6-4b11f4cbdb1a",
   "metadata": {},
   "outputs": [
    {
     "data": {
      "text/plain": [
       "['christina', 'liana', 'budi', 'joice', 'elianti', 'genta', 'qorin', 'robin']"
      ]
     },
     "execution_count": 105,
     "metadata": {},
     "output_type": "execute_result"
    }
   ],
   "source": [
    "names"
   ]
  },
  {
   "cell_type": "code",
   "execution_count": null,
   "id": "85e6fffd-2f55-4bcc-9dd7-ed4129554e1a",
   "metadata": {},
   "outputs": [],
   "source": [
    "start = 0\n",
    "stop = 10\n",
    "step = 1\n",
    "range(start, stop, step)"
   ]
  },
  {
   "cell_type": "code",
   "execution_count": 108,
   "id": "ba70dc59-6bfc-412b-9047-da1e9e1b04e7",
   "metadata": {},
   "outputs": [
    {
     "data": {
      "text/plain": [
       "range(0, 5)"
      ]
     },
     "execution_count": 108,
     "metadata": {},
     "output_type": "execute_result"
    }
   ],
   "source": [
    "range(0, 5, 1)"
   ]
  },
  {
   "cell_type": "code",
   "execution_count": 109,
   "id": "1ecce584-0e37-48a8-8f88-f1daee6a252e",
   "metadata": {},
   "outputs": [
    {
     "data": {
      "text/plain": [
       "range(0, 5)"
      ]
     },
     "execution_count": 109,
     "metadata": {},
     "output_type": "execute_result"
    }
   ],
   "source": [
    "range(5)"
   ]
  },
  {
   "cell_type": "code",
   "execution_count": 110,
   "id": "a1bc9016-30d3-4b7c-9b30-aa4cf17aa2ce",
   "metadata": {},
   "outputs": [
    {
     "data": {
      "text/plain": [
       "range(0, 5)"
      ]
     },
     "execution_count": 110,
     "metadata": {},
     "output_type": "execute_result"
    }
   ],
   "source": [
    "range(0, 5)"
   ]
  },
  {
   "cell_type": "code",
   "execution_count": 106,
   "id": "419c9e1b-c6cb-4235-8cc0-dfbb58a2732c",
   "metadata": {},
   "outputs": [
    {
     "name": "stdout",
     "output_type": "stream",
     "text": [
      "0\n",
      "1\n",
      "2\n",
      "3\n",
      "4\n"
     ]
    }
   ],
   "source": [
    "for n in range(5):\n",
    "    print(n)"
   ]
  },
  {
   "cell_type": "code",
   "execution_count": 111,
   "id": "3a83ee5e-fc52-48b7-bac6-c962953a6f95",
   "metadata": {},
   "outputs": [
    {
     "name": "stdout",
     "output_type": "stream",
     "text": [
      "christina\n",
      "liana\n",
      "budi\n",
      "joice\n",
      "elianti\n",
      "genta\n",
      "qorin\n",
      "robin\n"
     ]
    }
   ],
   "source": [
    "for variable in names:\n",
    "    print(variable)"
   ]
  }
 ],
 "metadata": {
  "kernelspec": {
   "display_name": "Python 3 (ipykernel)",
   "language": "python",
   "name": "python3"
  },
  "language_info": {
   "codemirror_mode": {
    "name": "ipython",
    "version": 3
   },
   "file_extension": ".py",
   "mimetype": "text/x-python",
   "name": "python",
   "nbconvert_exporter": "python",
   "pygments_lexer": "ipython3",
   "version": "3.9.12"
  }
 },
 "nbformat": 4,
 "nbformat_minor": 5
}
