{
 "cells": [
  {
   "cell_type": "markdown",
   "id": "5f649627-7d1b-4773-9c3b-f5755a9fd97a",
   "metadata": {},
   "source": [
    "# Sesi 1\n",
    "\n",
    "Selamat datang di Hacktiv8!\n",
    "\n",
    "Outline:\n",
    "* Introduction to Python\n",
    "* Data Types\n",
    "* Variables"
   ]
  },
  {
   "cell_type": "markdown",
   "id": "6c679cc0-f1ec-4bc0-9d0e-870b91fa5e24",
   "metadata": {},
   "source": [
    "## Integers"
   ]
  },
  {
   "cell_type": "code",
   "execution_count": 1,
   "id": "c7d94b44-c914-43b0-a59b-f4a0e42e328e",
   "metadata": {},
   "outputs": [
    {
     "name": "stdout",
     "output_type": "stream",
     "text": [
      "100\n"
     ]
    }
   ],
   "source": [
    "print(100)"
   ]
  },
  {
   "cell_type": "code",
   "execution_count": 2,
   "id": "d7f41204-cedf-49fb-afa8-a78f00564e20",
   "metadata": {},
   "outputs": [
    {
     "data": {
      "text/plain": [
       "int"
      ]
     },
     "execution_count": 2,
     "metadata": {},
     "output_type": "execute_result"
    }
   ],
   "source": [
    "type(100)"
   ]
  },
  {
   "cell_type": "code",
   "execution_count": 3,
   "id": "5f6e6690-10fd-4963-8c44-785dfd38f87e",
   "metadata": {},
   "outputs": [
    {
     "name": "stdout",
     "output_type": "stream",
     "text": [
      "10\n",
      "<class 'int'>\n"
     ]
    }
   ],
   "source": [
    "print(10)\n",
    "print(type(10))"
   ]
  },
  {
   "cell_type": "code",
   "execution_count": 6,
   "id": "7e3b7adf-b7c6-4564-abe7-8d480abe1836",
   "metadata": {},
   "outputs": [
    {
     "data": {
      "text/plain": [
       "int"
      ]
     },
     "execution_count": 6,
     "metadata": {},
     "output_type": "execute_result"
    }
   ],
   "source": [
    "10\n",
    "type(10)"
   ]
  },
  {
   "cell_type": "code",
   "execution_count": 5,
   "id": "9f57d038-bf1b-4f23-ad84-7939091192e9",
   "metadata": {},
   "outputs": [
    {
     "name": "stdout",
     "output_type": "stream",
     "text": [
      "10\n"
     ]
    }
   ],
   "source": [
    "print(10)"
   ]
  },
  {
   "cell_type": "code",
   "execution_count": 8,
   "id": "695e9aca-755f-46af-ad1c-1397a0356517",
   "metadata": {},
   "outputs": [
    {
     "name": "stdout",
     "output_type": "stream",
     "text": [
      "9999999999999999999999999999999\n",
      "<class 'int'>\n"
     ]
    }
   ],
   "source": [
    "print(9999999999999999999999999999999)\n",
    "print(type(9999999999999999999999999999999))"
   ]
  },
  {
   "cell_type": "code",
   "execution_count": 9,
   "id": "5d208b07-dafd-4492-80ab-28e35575cc2f",
   "metadata": {},
   "outputs": [
    {
     "name": "stdout",
     "output_type": "stream",
     "text": [
      "-100\n",
      "<class 'int'>\n"
     ]
    }
   ],
   "source": [
    "print(-100)\n",
    "print(type(-100))"
   ]
  },
  {
   "cell_type": "markdown",
   "id": "bdf50b16-455c-4fe3-b0f0-172653a9b129",
   "metadata": {},
   "source": [
    "## Float"
   ]
  },
  {
   "cell_type": "code",
   "execution_count": 10,
   "id": "8e4636fb-469f-4fe7-9edf-58a75b105fa5",
   "metadata": {},
   "outputs": [
    {
     "name": "stdout",
     "output_type": "stream",
     "text": [
      "3.14\n",
      "<class 'float'>\n"
     ]
    }
   ],
   "source": [
    "print(3.14)\n",
    "print(type(3.14))"
   ]
  },
  {
   "cell_type": "code",
   "execution_count": 11,
   "id": "d1d5a61e-f9d6-483e-9f85-2b94498cc992",
   "metadata": {},
   "outputs": [
    {
     "name": "stdout",
     "output_type": "stream",
     "text": [
      "0.0105\n",
      "<class 'float'>\n"
     ]
    }
   ],
   "source": [
    "print(0.0105)\n",
    "print(type(0.0105))"
   ]
  },
  {
   "cell_type": "code",
   "execution_count": 12,
   "id": "8caf33ae-0f95-4618-9874-fbbc75dd1d4d",
   "metadata": {},
   "outputs": [
    {
     "name": "stdout",
     "output_type": "stream",
     "text": [
      "0.0105\n",
      "<class 'float'>\n"
     ]
    }
   ],
   "source": [
    "print(.0105)\n",
    "print(type(.0105))"
   ]
  },
  {
   "cell_type": "code",
   "execution_count": 13,
   "id": "ef8c23ec-882f-49b7-b7d5-5d17676a3433",
   "metadata": {},
   "outputs": [
    {
     "name": "stdout",
     "output_type": "stream",
     "text": [
      "-0.134\n",
      "<class 'float'>\n",
      "-0.134\n",
      "<class 'float'>\n"
     ]
    }
   ],
   "source": [
    "print(-0.134)\n",
    "print(type(-0.134))\n",
    "print(-.134)\n",
    "print(type(-.134))"
   ]
  },
  {
   "cell_type": "code",
   "execution_count": 14,
   "id": "bb7b2ec3-63a7-412b-b8e0-28bfa929ea46",
   "metadata": {},
   "outputs": [
    {
     "name": "stdout",
     "output_type": "stream",
     "text": [
      "100\n",
      "100.0\n",
      "<class 'int'>\n",
      "<class 'float'>\n"
     ]
    }
   ],
   "source": [
    "print(100)\n",
    "print(100.0)\n",
    "print(type(100))\n",
    "print(type(100.0))"
   ]
  },
  {
   "cell_type": "code",
   "execution_count": 15,
   "id": "b14d4351-2b05-46f3-b26d-574ca3d5a517",
   "metadata": {},
   "outputs": [
    {
     "name": "stdout",
     "output_type": "stream",
     "text": [
      "100.0\n",
      "<class 'float'>\n"
     ]
    }
   ],
   "source": [
    "print(100.)\n",
    "print(type(100.))"
   ]
  },
  {
   "cell_type": "markdown",
   "id": "e7542b59-16da-4405-83ec-58865eb76678",
   "metadata": {},
   "source": [
    "## Complex Number"
   ]
  },
  {
   "cell_type": "code",
   "execution_count": 17,
   "id": "cd120afb-8dd8-49ac-9422-15e748011c92",
   "metadata": {},
   "outputs": [
    {
     "name": "stdout",
     "output_type": "stream",
     "text": [
      "1j\n",
      "<class 'complex'>\n"
     ]
    }
   ],
   "source": [
    "print(1j)\n",
    "print(type(1j))"
   ]
  },
  {
   "cell_type": "code",
   "execution_count": 18,
   "id": "7d6608c3-ad45-4540-a6ec-4b62043e360c",
   "metadata": {},
   "outputs": [
    {
     "name": "stdout",
     "output_type": "stream",
     "text": [
      "(5+1j)\n",
      "<class 'complex'>\n"
     ]
    }
   ],
   "source": [
    "print(5+1j)\n",
    "print(type(5+1j))"
   ]
  },
  {
   "cell_type": "markdown",
   "id": "587085cb-0976-4a27-804d-bd26eecb4ad2",
   "metadata": {},
   "source": [
    "## String"
   ]
  },
  {
   "cell_type": "code",
   "execution_count": 19,
   "id": "cd065385-8517-4d21-a5d2-c95e94445218",
   "metadata": {},
   "outputs": [
    {
     "name": "stdout",
     "output_type": "stream",
     "text": [
      "Hacktiv8\n",
      "<class 'str'>\n"
     ]
    }
   ],
   "source": [
    "print(\"Hacktiv8\")\n",
    "print(type(\"Hacktiv8\"))"
   ]
  },
  {
   "cell_type": "code",
   "execution_count": 21,
   "id": "126231d4-482e-4f3c-a639-717a53294cc1",
   "metadata": {},
   "outputs": [
    {
     "name": "stdout",
     "output_type": "stream",
     "text": [
      "Hacktiv8 <class 'str'>\n"
     ]
    }
   ],
   "source": [
    "print('Hacktiv8', type('Hacktiv8'))"
   ]
  },
  {
   "cell_type": "code",
   "execution_count": 37,
   "id": "4d0ed783-339c-4399-a7e8-37567a63141e",
   "metadata": {},
   "outputs": [
    {
     "name": "stdout",
     "output_type": "stream",
     "text": [
      "Hacktiv8\n"
     ]
    }
   ],
   "source": [
    "print(\"\"\"Hacktiv8\"\"\")"
   ]
  },
  {
   "cell_type": "code",
   "execution_count": 22,
   "id": "041eeea0-ea6d-4eb6-9daa-499beb0084a7",
   "metadata": {},
   "outputs": [
    {
     "ename": "SyntaxError",
     "evalue": "invalid syntax (448341544.py, line 1)",
     "output_type": "error",
     "traceback": [
      "\u001b[0;36m  Input \u001b[0;32mIn [22]\u001b[0;36m\u001b[0m\n\u001b[0;31m    print(\"Ibu berkata, \"jangan ke sana!\"\")\u001b[0m\n\u001b[0m                         ^\u001b[0m\n\u001b[0;31mSyntaxError\u001b[0m\u001b[0;31m:\u001b[0m invalid syntax\n"
     ]
    }
   ],
   "source": [
    "print(\"Ibu berkata, \"jangan ke sana!\"\")"
   ]
  },
  {
   "cell_type": "code",
   "execution_count": 23,
   "id": "9998f43e-d8a5-4af4-9041-bb389c5ce15f",
   "metadata": {},
   "outputs": [
    {
     "name": "stdout",
     "output_type": "stream",
     "text": [
      "Ibu berkata, \"jangan ke sana!\"\n"
     ]
    }
   ],
   "source": [
    "print('Ibu berkata, \"jangan ke sana!\"')"
   ]
  },
  {
   "cell_type": "code",
   "execution_count": 24,
   "id": "95cc8015-9c0f-478a-9c51-77f3202fab57",
   "metadata": {},
   "outputs": [
    {
     "name": "stdout",
     "output_type": "stream",
     "text": [
      "Halo 'Qorin\n"
     ]
    }
   ],
   "source": [
    "print(\"Halo 'Qorin\")"
   ]
  },
  {
   "cell_type": "code",
   "execution_count": 25,
   "id": "6dc35256-8c04-41e3-9b35-1a524b898927",
   "metadata": {},
   "outputs": [
    {
     "ename": "SyntaxError",
     "evalue": "invalid syntax (1058971523.py, line 1)",
     "output_type": "error",
     "traceback": [
      "\u001b[0;36m  Input \u001b[0;32mIn [25]\u001b[0;36m\u001b[0m\n\u001b[0;31m    print('Halo 'Qorin')\u001b[0m\n\u001b[0m                 ^\u001b[0m\n\u001b[0;31mSyntaxError\u001b[0m\u001b[0;31m:\u001b[0m invalid syntax\n"
     ]
    }
   ],
   "source": [
    "print('Halo 'Qorin')"
   ]
  },
  {
   "cell_type": "code",
   "execution_count": 26,
   "id": "3dd94d4a-db87-4195-95c9-6b007d50a1cd",
   "metadata": {},
   "outputs": [
    {
     "ename": "SyntaxError",
     "evalue": "invalid syntax (2303411072.py, line 1)",
     "output_type": "error",
     "traceback": [
      "\u001b[0;36m  Input \u001b[0;32mIn [26]\u001b[0;36m\u001b[0m\n\u001b[0;31m    print(''Qorin berkata, \"jangan ke sana!\"')\u001b[0m\n\u001b[0m            ^\u001b[0m\n\u001b[0;31mSyntaxError\u001b[0m\u001b[0;31m:\u001b[0m invalid syntax\n"
     ]
    }
   ],
   "source": [
    "print(''Qorin berkata, \"jangan ke sana!\"')"
   ]
  },
  {
   "cell_type": "code",
   "execution_count": 32,
   "id": "e84c391e-0350-489d-b6fc-a839ee6c9aeb",
   "metadata": {},
   "outputs": [
    {
     "name": "stdout",
     "output_type": "stream",
     "text": [
      "'Qorin berkata, \"jangan ke sana!\".\n",
      "'Qorin berkata, \"jangan ke sana!\".\n"
     ]
    }
   ],
   "source": [
    "print(\"\"\"'Qorin berkata, \"jangan ke sana!\".\"\"\")\n",
    "print(''''Qorin berkata, \"jangan ke sana!\".''')"
   ]
  },
  {
   "cell_type": "code",
   "execution_count": 38,
   "id": "ec6eaabd-88df-4354-a48a-5feba51153a1",
   "metadata": {},
   "outputs": [
    {
     "name": "stdout",
     "output_type": "stream",
     "text": [
      "s\n"
     ]
    }
   ],
   "source": [
    "print(\"\"\"s\"\"\")"
   ]
  },
  {
   "cell_type": "code",
   "execution_count": 34,
   "id": "f62965e9-5269-462a-81c4-2a0d62b9c43a",
   "metadata": {},
   "outputs": [
    {
     "name": "stdout",
     "output_type": "stream",
     "text": [
      "Hari ini.\n",
      "Senin\n",
      "Selasa\n",
      "Rabu\n",
      "...\n",
      "...\n"
     ]
    }
   ],
   "source": [
    "print(\"\"\"Hari ini.\n",
    "Senin\n",
    "Selasa\n",
    "Rabu\n",
    "...\n",
    "...\"\"\")"
   ]
  },
  {
   "cell_type": "code",
   "execution_count": 35,
   "id": "8743909b-3942-4893-a1dd-a8c28c1781b8",
   "metadata": {},
   "outputs": [
    {
     "name": "stdout",
     "output_type": "stream",
     "text": [
      "Hari ini.\n",
      "Senin\n",
      "Selasa\n",
      "Rabu\n",
      "...\n",
      "...\n"
     ]
    }
   ],
   "source": [
    "print('''Hari ini.\n",
    "Senin\n",
    "Selasa\n",
    "Rabu\n",
    "...\n",
    "...''')"
   ]
  },
  {
   "cell_type": "code",
   "execution_count": 36,
   "id": "9e651ba9-3591-4d42-9feb-cc42da09b731",
   "metadata": {},
   "outputs": [
    {
     "name": "stdout",
     "output_type": "stream",
     "text": [
      "<class 'str'>\n"
     ]
    }
   ],
   "source": [
    "print(type('''Hari ini.\n",
    "Senin\n",
    "Selasa\n",
    "Rabu\n",
    "...\n",
    "...'''))"
   ]
  },
  {
   "cell_type": "markdown",
   "id": "1bd315af-ce40-4a2b-a582-dc2174d5731e",
   "metadata": {},
   "source": [
    "## Boolean"
   ]
  },
  {
   "cell_type": "code",
   "execution_count": 39,
   "id": "d4a19617-fb13-470b-952b-a7a8318ade99",
   "metadata": {},
   "outputs": [
    {
     "name": "stdout",
     "output_type": "stream",
     "text": [
      "True\n",
      "False\n",
      "<class 'bool'> <class 'bool'>\n"
     ]
    }
   ],
   "source": [
    "print(True)\n",
    "print(False)\n",
    "print(type(True), type(False))"
   ]
  },
  {
   "cell_type": "code",
   "execution_count": 40,
   "id": "b1d8951a-967e-474b-9a92-dfd9d54d2093",
   "metadata": {},
   "outputs": [
    {
     "data": {
      "text/plain": [
       "True"
      ]
     },
     "execution_count": 40,
     "metadata": {},
     "output_type": "execute_result"
    }
   ],
   "source": [
    "True"
   ]
  },
  {
   "cell_type": "code",
   "execution_count": 41,
   "id": "802b6d73-b632-4646-b938-35ee9eff4952",
   "metadata": {},
   "outputs": [
    {
     "data": {
      "text/plain": [
       "False"
      ]
     },
     "execution_count": 41,
     "metadata": {},
     "output_type": "execute_result"
    }
   ],
   "source": [
    "False"
   ]
  },
  {
   "cell_type": "markdown",
   "id": "b58249e6-07d6-4a45-bd59-5988daf73175",
   "metadata": {},
   "source": [
    "## Variable"
   ]
  },
  {
   "cell_type": "code",
   "execution_count": 42,
   "id": "328c06dc-3985-46f8-a81d-c912fdc5031c",
   "metadata": {},
   "outputs": [
    {
     "name": "stdout",
     "output_type": "stream",
     "text": [
      "100\n"
     ]
    }
   ],
   "source": [
    "n = 100\n",
    "print(n)"
   ]
  },
  {
   "cell_type": "code",
   "execution_count": 43,
   "id": "ede3019a-3fa5-4087-9b0a-9ecc901e35c4",
   "metadata": {},
   "outputs": [
    {
     "name": "stdout",
     "output_type": "stream",
     "text": [
      "100\n",
      "<class 'int'>\n"
     ]
    }
   ],
   "source": [
    "print(n)\n",
    "print(type(n))"
   ]
  },
  {
   "cell_type": "code",
   "execution_count": 44,
   "id": "c6e38665-25dc-4694-848a-e90fb1774258",
   "metadata": {},
   "outputs": [
    {
     "name": "stdout",
     "output_type": "stream",
     "text": [
      "Hacktiv8 <class 'str'>\n"
     ]
    }
   ],
   "source": [
    "course = \"Hacktiv8\"\n",
    "print(course, type(course))"
   ]
  },
  {
   "cell_type": "code",
   "execution_count": 45,
   "id": "b748e5b0-f008-4af0-b338-7f104b30468c",
   "metadata": {},
   "outputs": [
    {
     "name": "stdout",
     "output_type": "stream",
     "text": [
      "5 5 10\n"
     ]
    }
   ],
   "source": [
    "x = 5\n",
    "y = 5\n",
    "z = 10\n",
    "print(x, y, z)"
   ]
  },
  {
   "cell_type": "code",
   "execution_count": 46,
   "id": "fc0e04bb-ba6b-4f02-811c-f58208e8afbf",
   "metadata": {},
   "outputs": [
    {
     "name": "stdout",
     "output_type": "stream",
     "text": [
      "5 5 10\n"
     ]
    }
   ],
   "source": [
    "x = y = 5\n",
    "z = 10\n",
    "print(x, y, z)"
   ]
  },
  {
   "cell_type": "code",
   "execution_count": 47,
   "id": "bfd4b8d8-4a3d-4a0b-99dc-e35c66c84f84",
   "metadata": {},
   "outputs": [
    {
     "name": "stdout",
     "output_type": "stream",
     "text": [
      "3.14 3.14 3.14 3.14 3.14\n"
     ]
    }
   ],
   "source": [
    "a = b = c = d = e = 3.14\n",
    "print(a, b, c, d, e)"
   ]
  },
  {
   "cell_type": "markdown",
   "id": "d6a1abf8-faaa-4036-a5a4-5aae748da470",
   "metadata": {},
   "source": [
    "### Naming Variables"
   ]
  },
  {
   "cell_type": "code",
   "execution_count": 48,
   "id": "2af259d9-173d-4c56-9b3c-2ff4ccba1a7f",
   "metadata": {},
   "outputs": [
    {
     "ename": "SyntaxError",
     "evalue": "invalid syntax (1224421060.py, line 1)",
     "output_type": "error",
     "traceback": [
      "\u001b[0;36m  Input \u001b[0;32mIn [48]\u001b[0;36m\u001b[0m\n\u001b[0;31m    3kij = 10\u001b[0m\n\u001b[0m     ^\u001b[0m\n\u001b[0;31mSyntaxError\u001b[0m\u001b[0;31m:\u001b[0m invalid syntax\n"
     ]
    }
   ],
   "source": [
    "3kij = 10"
   ]
  },
  {
   "cell_type": "code",
   "execution_count": 49,
   "id": "b2489eb3-9577-4b6f-9429-00f2cddeb50d",
   "metadata": {},
   "outputs": [
    {
     "ename": "SyntaxError",
     "evalue": "invalid syntax (1437413432.py, line 1)",
     "output_type": "error",
     "traceback": [
      "\u001b[0;36m  Input \u001b[0;32mIn [49]\u001b[0;36m\u001b[0m\n\u001b[0;31m    course name = 10\u001b[0m\n\u001b[0m           ^\u001b[0m\n\u001b[0;31mSyntaxError\u001b[0m\u001b[0;31m:\u001b[0m invalid syntax\n"
     ]
    }
   ],
   "source": [
    "course name = 10"
   ]
  },
  {
   "cell_type": "code",
   "execution_count": 50,
   "id": "9f29429d-31d3-445d-a31a-c3db6e27dcb1",
   "metadata": {},
   "outputs": [
    {
     "name": "stdout",
     "output_type": "stream",
     "text": [
      "hacktiv8\n"
     ]
    }
   ],
   "source": [
    "course_name = \"hacktiv8\"\n",
    "print(course_name)"
   ]
  },
  {
   "cell_type": "code",
   "execution_count": 51,
   "id": "b4133d29-7731-4572-bc64-669df313e623",
   "metadata": {},
   "outputs": [
    {
     "ename": "SyntaxError",
     "evalue": "cannot assign to operator (1658888342.py, line 1)",
     "output_type": "error",
     "traceback": [
      "\u001b[0;36m  Input \u001b[0;32mIn [51]\u001b[0;36m\u001b[0m\n\u001b[0;31m    course-name = \"python\"\u001b[0m\n\u001b[0m    ^\u001b[0m\n\u001b[0;31mSyntaxError\u001b[0m\u001b[0;31m:\u001b[0m cannot assign to operator\n"
     ]
    }
   ],
   "source": [
    "course-name = \"python\""
   ]
  },
  {
   "cell_type": "code",
   "execution_count": 52,
   "id": "4e75a93e-44bf-45f3-a16c-aabb59110503",
   "metadata": {},
   "outputs": [
    {
     "name": "stdout",
     "output_type": "stream",
     "text": [
      "name name\n"
     ]
    }
   ],
   "source": [
    "name_1 = name_2 = \"name\"\n",
    "print(name_1, name_2)"
   ]
  },
  {
   "cell_type": "code",
   "execution_count": 53,
   "id": "780128bf-f3c7-4551-905a-201b0b19e24d",
   "metadata": {},
   "outputs": [
    {
     "name": "stdout",
     "output_type": "stream",
     "text": [
      "10 dani\n"
     ]
    }
   ],
   "source": [
    "age = 10\n",
    "name = \"dani\"\n",
    "print(age, name)"
   ]
  },
  {
   "cell_type": "markdown",
   "id": "2835d2d0-8d1e-4192-89c4-4eee153d6d23",
   "metadata": {},
   "source": [
    "## Operators, Expressions, Operands"
   ]
  },
  {
   "cell_type": "code",
   "execution_count": 54,
   "id": "cf14d0b5-f7f1-4cdf-bce7-0532424d87c1",
   "metadata": {},
   "outputs": [],
   "source": [
    "width = 5\n",
    "height = 10"
   ]
  },
  {
   "cell_type": "code",
   "execution_count": 56,
   "id": "21675021-aa32-4267-b682-9181fc5fb6aa",
   "metadata": {},
   "outputs": [
    {
     "name": "stdout",
     "output_type": "stream",
     "text": [
      "15 <class 'int'>\n",
      "-5 <class 'int'>\n",
      "50 <class 'int'>\n",
      "0.5 <class 'float'>\n",
      "9765625 <class 'int'>\n",
      "5 <class 'int'>\n"
     ]
    }
   ],
   "source": [
    "print(width + height, type(width + height))\n",
    "print(width - height, type(width - height))\n",
    "print(width * height, type(width * height))\n",
    "print(width / height, type(width / height))\n",
    "print(width ** height, type(width ** height))\n",
    "print(width % height, type(width % height))"
   ]
  },
  {
   "cell_type": "markdown",
   "id": "c195d549-135c-4d53-9d1a-8999df54040b",
   "metadata": {},
   "source": [
    "### Comparison Operator"
   ]
  },
  {
   "cell_type": "code",
   "execution_count": 58,
   "id": "1e4dfac6-9d49-4b66-b0ad-8a9b15812846",
   "metadata": {},
   "outputs": [
    {
     "name": "stdout",
     "output_type": "stream",
     "text": [
      "False\n",
      "False\n",
      "True\n",
      "False\n",
      "True\n",
      "True\n"
     ]
    }
   ],
   "source": [
    "print(width == height)\n",
    "print(width > height)\n",
    "print(width < height)\n",
    "print(width >= height)\n",
    "print(width <= height)\n",
    "print(width != height)"
   ]
  },
  {
   "cell_type": "markdown",
   "id": "1bee9f6d-501f-4ffe-8419-092c3d2465db",
   "metadata": {},
   "source": [
    "### String Manipulation"
   ]
  },
  {
   "cell_type": "code",
   "execution_count": 62,
   "id": "171ae991-fdc0-4feb-a6a2-2bef55fbfe18",
   "metadata": {},
   "outputs": [
    {
     "name": "stdout",
     "output_type": "stream",
     "text": [
      "intro::july\n"
     ]
    }
   ],
   "source": [
    "session_name = \"intro\"\n",
    "session_month = \"july\"\n",
    "\n",
    "print(session_name + \"::\" + session_month)"
   ]
  },
  {
   "cell_type": "code",
   "execution_count": 71,
   "id": "7ccad48d-211a-4a35-be62-4fdd88636e5a",
   "metadata": {},
   "outputs": [
    {
     "name": "stdout",
     "output_type": "stream",
     "text": [
      "intro10\n"
     ]
    }
   ],
   "source": [
    "print(session_name + \"10\")"
   ]
  },
  {
   "cell_type": "code",
   "execution_count": 66,
   "id": "5132ba6e-89bc-4189-8ae7-5443bf6a35d3",
   "metadata": {},
   "outputs": [
    {
     "ename": "TypeError",
     "evalue": "unsupported operand type(s) for /: 'str' and 'str'",
     "output_type": "error",
     "traceback": [
      "\u001b[0;31m---------------------------------------------------------------------------\u001b[0m",
      "\u001b[0;31mTypeError\u001b[0m                                 Traceback (most recent call last)",
      "Input \u001b[0;32mIn [66]\u001b[0m, in \u001b[0;36m<cell line: 1>\u001b[0;34m()\u001b[0m\n\u001b[0;32m----> 1\u001b[0m \u001b[38;5;28mprint\u001b[39m(\u001b[43msession_name\u001b[49m\u001b[43m \u001b[49m\u001b[38;5;241;43m/\u001b[39;49m\u001b[43m \u001b[49m\u001b[43msession_name\u001b[49m)\n",
      "\u001b[0;31mTypeError\u001b[0m: unsupported operand type(s) for /: 'str' and 'str'"
     ]
    }
   ],
   "source": [
    "print(session_name / session_name)"
   ]
  },
  {
   "cell_type": "code",
   "execution_count": 67,
   "id": "cb7c404b-fa04-4494-89da-adfa827c2f01",
   "metadata": {},
   "outputs": [
    {
     "ename": "TypeError",
     "evalue": "can't multiply sequence by non-int of type 'str'",
     "output_type": "error",
     "traceback": [
      "\u001b[0;31m---------------------------------------------------------------------------\u001b[0m",
      "\u001b[0;31mTypeError\u001b[0m                                 Traceback (most recent call last)",
      "Input \u001b[0;32mIn [67]\u001b[0m, in \u001b[0;36m<cell line: 1>\u001b[0;34m()\u001b[0m\n\u001b[0;32m----> 1\u001b[0m \u001b[38;5;28mprint\u001b[39m(\u001b[43msession_name\u001b[49m\u001b[43m \u001b[49m\u001b[38;5;241;43m*\u001b[39;49m\u001b[43m \u001b[49m\u001b[43msession_name\u001b[49m)\n",
      "\u001b[0;31mTypeError\u001b[0m: can't multiply sequence by non-int of type 'str'"
     ]
    }
   ],
   "source": [
    "print(session_name * session_name)"
   ]
  },
  {
   "cell_type": "code",
   "execution_count": 74,
   "id": "faefb090-0a5d-4e01-8e17-b562df669446",
   "metadata": {},
   "outputs": [
    {
     "name": "stdout",
     "output_type": "stream",
     "text": [
      "intro intro intro intro intro \n"
     ]
    }
   ],
   "source": [
    "print((session_name + \" \") * 5)"
   ]
  },
  {
   "cell_type": "code",
   "execution_count": 77,
   "id": "c8728c2d-f22e-4d33-977b-760a0902f4bf",
   "metadata": {},
   "outputs": [
    {
     "name": "stdout",
     "output_type": "stream",
     "text": [
      "intro to python for data science <class 'str'>\n"
     ]
    }
   ],
   "source": [
    "course_name = \"intro to python for data science\"\n",
    "print(course_name, type(course_name))"
   ]
  },
  {
   "cell_type": "code",
   "execution_count": 78,
   "id": "659e67ed-e95a-4dec-baef-1354b9f561d0",
   "metadata": {},
   "outputs": [
    {
     "data": {
      "text/plain": [
       "'INTRO TO PYTHON FOR DATA SCIENCE'"
      ]
     },
     "execution_count": 78,
     "metadata": {},
     "output_type": "execute_result"
    }
   ],
   "source": [
    "course_name.upper()"
   ]
  },
  {
   "cell_type": "code",
   "execution_count": 79,
   "id": "6ae9b974-869e-447d-b42f-10198576d986",
   "metadata": {},
   "outputs": [
    {
     "data": {
      "text/plain": [
       "'Intro To Python For Data Science'"
      ]
     },
     "execution_count": 79,
     "metadata": {},
     "output_type": "execute_result"
    }
   ],
   "source": [
    "course_name.title()"
   ]
  },
  {
   "cell_type": "code",
   "execution_count": 84,
   "id": "e2c0d046-721d-4e12-9b07-635a79bb4098",
   "metadata": {},
   "outputs": [
    {
     "data": {
      "text/plain": [
       "'intro to python'"
      ]
     },
     "execution_count": 84,
     "metadata": {},
     "output_type": "execute_result"
    }
   ],
   "source": [
    "\"INTRO TO PYTHON\".lower()"
   ]
  },
  {
   "cell_type": "code",
   "execution_count": 82,
   "id": "65ee8569-5d11-4c29-b7cf-7a5c31913f21",
   "metadata": {},
   "outputs": [
    {
     "data": {
      "text/plain": [
       "4"
      ]
     },
     "execution_count": 82,
     "metadata": {},
     "output_type": "execute_result"
    }
   ],
   "source": [
    "course_name.count(\"o\")"
   ]
  },
  {
   "cell_type": "markdown",
   "id": "0cb975d4-c59d-4ab2-83d8-4e9e779cf2dc",
   "metadata": {},
   "source": [
    "## Lists"
   ]
  },
  {
   "cell_type": "code",
   "execution_count": 85,
   "id": "84352eb4-dab7-4d2a-b3ec-bf3d1d052aa3",
   "metadata": {},
   "outputs": [
    {
     "name": "stdout",
     "output_type": "stream",
     "text": [
      "[1, 2, 3]\n"
     ]
    }
   ],
   "source": [
    "print([1, 2, 3])"
   ]
  },
  {
   "cell_type": "code",
   "execution_count": 86,
   "id": "1873d60d-bc6c-4eb8-9773-16985d34d4f8",
   "metadata": {},
   "outputs": [
    {
     "name": "stdout",
     "output_type": "stream",
     "text": [
      "<class 'list'>\n"
     ]
    }
   ],
   "source": [
    "print(type([1, 2, 3]))"
   ]
  },
  {
   "cell_type": "code",
   "execution_count": 87,
   "id": "e327ffcf-6241-4224-8634-43868f87befc",
   "metadata": {},
   "outputs": [
    {
     "name": "stdout",
     "output_type": "stream",
     "text": [
      "[1, 'string', 'boolean', True, False, 0.14]\n",
      "<class 'list'>\n"
     ]
    }
   ],
   "source": [
    "print([1, \"string\", \"boolean\", True, False, .14])\n",
    "print(type([1, \"string\", \"boolean\", True, False, .14]))"
   ]
  },
  {
   "cell_type": "code",
   "execution_count": 88,
   "id": "d6c5fa50-27fc-4066-9bd5-21c4b39bc135",
   "metadata": {},
   "outputs": [
    {
     "name": "stdout",
     "output_type": "stream",
     "text": [
      "['christina', 'liana', 'budi', 'joice', 'elianti', 'genta', 'qorin', 'robin']\n"
     ]
    }
   ],
   "source": [
    "names = [\n",
    "    \"christina\", \"liana\", \"budi\",\n",
    "    \"joice\", \"elianti\", \"genta\", \"qorin\", \"robin\"\n",
    "]\n",
    "print(names)"
   ]
  },
  {
   "cell_type": "code",
   "execution_count": 89,
   "id": "9d38f062-44d7-438f-9983-39b61134cb49",
   "metadata": {},
   "outputs": [
    {
     "data": {
      "text/plain": [
       "8"
      ]
     },
     "execution_count": 89,
     "metadata": {},
     "output_type": "execute_result"
    }
   ],
   "source": [
    "len(names)"
   ]
  },
  {
   "cell_type": "code",
   "execution_count": 90,
   "id": "d9c025bd-ba21-409b-814c-33af6465dea2",
   "metadata": {},
   "outputs": [
    {
     "data": {
      "text/plain": [
       "'christina'"
      ]
     },
     "execution_count": 90,
     "metadata": {},
     "output_type": "execute_result"
    }
   ],
   "source": [
    "names[0]"
   ]
  },
  {
   "cell_type": "code",
   "execution_count": 91,
   "id": "f33389af-c9b1-43b1-b74c-4d873c8fce86",
   "metadata": {},
   "outputs": [
    {
     "data": {
      "text/plain": [
       "'robin'"
      ]
     },
     "execution_count": 91,
     "metadata": {},
     "output_type": "execute_result"
    }
   ],
   "source": [
    "names[7]"
   ]
  },
  {
   "cell_type": "code",
   "execution_count": 92,
   "id": "18980304-198f-4748-a518-7fea55d2c905",
   "metadata": {},
   "outputs": [
    {
     "data": {
      "text/plain": [
       "'robin'"
      ]
     },
     "execution_count": 92,
     "metadata": {},
     "output_type": "execute_result"
    }
   ],
   "source": [
    "names[-1]"
   ]
  },
  {
   "cell_type": "code",
   "execution_count": 93,
   "id": "e45dc864-99c8-483c-9847-ef2fd300601e",
   "metadata": {},
   "outputs": [
    {
     "data": {
      "text/plain": [
       "'christina'"
      ]
     },
     "execution_count": 93,
     "metadata": {},
     "output_type": "execute_result"
    }
   ],
   "source": [
    "names[-8]"
   ]
  },
  {
   "cell_type": "code",
   "execution_count": 94,
   "id": "be5985cc-ae21-4566-8e88-dd3d881d347f",
   "metadata": {},
   "outputs": [
    {
     "data": {
      "text/plain": [
       "'christina'"
      ]
     },
     "execution_count": 94,
     "metadata": {},
     "output_type": "execute_result"
    }
   ],
   "source": [
    "names[-len(names)]"
   ]
  },
  {
   "cell_type": "code",
   "execution_count": 95,
   "id": "ee93f697-a50a-4485-b12d-593db17a505c",
   "metadata": {},
   "outputs": [
    {
     "data": {
      "text/plain": [
       "'robin'"
      ]
     },
     "execution_count": 95,
     "metadata": {},
     "output_type": "execute_result"
    }
   ],
   "source": [
    "names[len(names)-1]"
   ]
  },
  {
   "cell_type": "code",
   "execution_count": 96,
   "id": "bf646adf-62e4-45ad-84ab-cbe354058149",
   "metadata": {},
   "outputs": [
    {
     "ename": "IndexError",
     "evalue": "list index out of range",
     "output_type": "error",
     "traceback": [
      "\u001b[0;31m---------------------------------------------------------------------------\u001b[0m",
      "\u001b[0;31mIndexError\u001b[0m                                Traceback (most recent call last)",
      "Input \u001b[0;32mIn [96]\u001b[0m, in \u001b[0;36m<cell line: 1>\u001b[0;34m()\u001b[0m\n\u001b[0;32m----> 1\u001b[0m \u001b[43mnames\u001b[49m\u001b[43m[\u001b[49m\u001b[38;5;241;43m10\u001b[39;49m\u001b[43m]\u001b[49m\n",
      "\u001b[0;31mIndexError\u001b[0m: list index out of range"
     ]
    }
   ],
   "source": [
    "names[10]"
   ]
  },
  {
   "cell_type": "code",
   "execution_count": 97,
   "id": "58cd5906-92e9-4ec0-873b-83ba210a3d3c",
   "metadata": {},
   "outputs": [
    {
     "name": "stdout",
     "output_type": "stream",
     "text": [
      "['christina', 'liana', 'budi', 'joice', 'elianti', 'genta', 'qorin', 'robin']\n"
     ]
    }
   ],
   "source": [
    "print(names)"
   ]
  },
  {
   "cell_type": "code",
   "execution_count": 105,
   "id": "d251d00f-4923-45b8-b4c4-44b4cb507362",
   "metadata": {},
   "outputs": [
    {
     "data": {
      "text/plain": [
       "['budi', 'joice', 'elianti']"
      ]
     },
     "execution_count": 105,
     "metadata": {},
     "output_type": "execute_result"
    }
   ],
   "source": [
    "start = 2\n",
    "end = 5\n",
    "names[start:end]"
   ]
  },
  {
   "cell_type": "code",
   "execution_count": 107,
   "id": "fc4d0162-915e-4a0f-b61b-7ce7d6ac4eb5",
   "metadata": {},
   "outputs": [
    {
     "name": "stdout",
     "output_type": "stream",
     "text": [
      "-7 -5\n"
     ]
    }
   ],
   "source": [
    "start = 2\n",
    "end = 5\n",
    "\n",
    "start = -7\n",
    "end = -5\n",
    "names[start:end]\n",
    "\n",
    "print(start, end)"
   ]
  },
  {
   "cell_type": "code",
   "execution_count": 108,
   "id": "bf4d3b30-4cd7-4892-9e2f-9eb487b6f799",
   "metadata": {},
   "outputs": [
    {
     "name": "stdout",
     "output_type": "stream",
     "text": [
      "-7 -5\n"
     ]
    }
   ],
   "source": [
    "print(start, end)"
   ]
  },
  {
   "cell_type": "code",
   "execution_count": 115,
   "id": "2e2a9a6d-ea03-49e5-8a09-e825d6e82b1d",
   "metadata": {},
   "outputs": [
    {
     "name": "stdout",
     "output_type": "stream",
     "text": [
      "['christina', 'liana', 'budi', 'joice', 'elianti', 'genta', 'qorin', 'dani']\n"
     ]
    }
   ],
   "source": [
    "names[-1] = \"dani\"\n",
    "print(names)"
   ]
  },
  {
   "cell_type": "code",
   "execution_count": 116,
   "id": "7c86ca21-8cca-4e8e-ab04-922ea4a831c4",
   "metadata": {},
   "outputs": [
    {
     "data": {
      "text/plain": [
       "'dani'"
      ]
     },
     "execution_count": 116,
     "metadata": {},
     "output_type": "execute_result"
    }
   ],
   "source": [
    "names[-1]"
   ]
  },
  {
   "cell_type": "markdown",
   "id": "1c736229-9aaa-4e8e-a6cd-376369fe9184",
   "metadata": {},
   "source": [
    "## Tuple"
   ]
  },
  {
   "cell_type": "code",
   "execution_count": 109,
   "id": "156a3ed9-94f4-41f5-97d2-38d635de7ad4",
   "metadata": {},
   "outputs": [
    {
     "name": "stdout",
     "output_type": "stream",
     "text": [
      "('foo', 'bar', 'baz')\n",
      "('foo', 'bar', 'baz') <class 'tuple'>\n"
     ]
    }
   ],
   "source": [
    "print((\"foo\", \"bar\", \"baz\"))\n",
    "print((\"foo\", \"bar\", \"baz\"), type((\"foo\", \"bar\", \"baz\")))"
   ]
  },
  {
   "cell_type": "code",
   "execution_count": 110,
   "id": "8d9d0ac0-8420-453c-8676-28d6adc5cf1b",
   "metadata": {},
   "outputs": [
    {
     "name": "stdout",
     "output_type": "stream",
     "text": [
      "('christina', 'liana', 'budi', 'joice', 'elianti', 'genta', 'qorin', 'robin') <class 'tuple'>\n"
     ]
    }
   ],
   "source": [
    "tuple_names = (\n",
    "    \"christina\", \"liana\", \"budi\",\n",
    "    \"joice\", \"elianti\", \"genta\", \"qorin\", \"robin\"\n",
    ")\n",
    "print(tuple_names, type(tuple_names))"
   ]
  },
  {
   "cell_type": "code",
   "execution_count": 111,
   "id": "05afe274-85fb-4fd7-b220-23440114f688",
   "metadata": {},
   "outputs": [
    {
     "name": "stdout",
     "output_type": "stream",
     "text": [
      "christina genta joice\n"
     ]
    }
   ],
   "source": [
    "print(tuple_names[0], tuple_names[5], tuple_names[-5])"
   ]
  },
  {
   "cell_type": "code",
   "execution_count": 112,
   "id": "924cb4ae-1394-4815-87a3-555ca3a4acc6",
   "metadata": {},
   "outputs": [
    {
     "data": {
      "text/plain": [
       "('christina', 'liana')"
      ]
     },
     "execution_count": 112,
     "metadata": {},
     "output_type": "execute_result"
    }
   ],
   "source": [
    "tuple_names[0:2]"
   ]
  },
  {
   "cell_type": "code",
   "execution_count": 117,
   "id": "e2db660d-ce78-4ea2-b73b-5f3c7aa1652c",
   "metadata": {},
   "outputs": [
    {
     "data": {
      "text/plain": [
       "'robin'"
      ]
     },
     "execution_count": 117,
     "metadata": {},
     "output_type": "execute_result"
    }
   ],
   "source": [
    "tuple_names[-1]"
   ]
  },
  {
   "cell_type": "code",
   "execution_count": 118,
   "id": "39179ec0-bac4-4a1d-b889-551f51a5b0e1",
   "metadata": {},
   "outputs": [
    {
     "ename": "TypeError",
     "evalue": "'tuple' object does not support item assignment",
     "output_type": "error",
     "traceback": [
      "\u001b[0;31m---------------------------------------------------------------------------\u001b[0m",
      "\u001b[0;31mTypeError\u001b[0m                                 Traceback (most recent call last)",
      "Input \u001b[0;32mIn [118]\u001b[0m, in \u001b[0;36m<cell line: 1>\u001b[0;34m()\u001b[0m\n\u001b[0;32m----> 1\u001b[0m tuple_names[\u001b[38;5;241m-\u001b[39m\u001b[38;5;241m1\u001b[39m] \u001b[38;5;241m=\u001b[39m \u001b[38;5;124m\"\u001b[39m\u001b[38;5;124mdani\u001b[39m\u001b[38;5;124m\"\u001b[39m\n",
      "\u001b[0;31mTypeError\u001b[0m: 'tuple' object does not support item assignment"
     ]
    }
   ],
   "source": [
    "tuple_names[-1] = \"dani\""
   ]
  },
  {
   "cell_type": "markdown",
   "id": "21778323-2fff-4313-b41d-6e98eecca509",
   "metadata": {},
   "source": [
    "## Dictionary"
   ]
  },
  {
   "cell_type": "code",
   "execution_count": 119,
   "id": "33eacdcc-b01a-4d11-9b28-746b90f8214a",
   "metadata": {},
   "outputs": [
    {
     "name": "stdout",
     "output_type": "stream",
     "text": [
      "{'liana': 20, 'robin': 30, 'budi': 25} <class 'dict'>\n"
     ]
    }
   ],
   "source": [
    "name_to_age = {\"liana\": 20, \"robin\": 30, \"budi\": 25}\n",
    "print(name_to_age, type(name_to_age))"
   ]
  },
  {
   "cell_type": "code",
   "execution_count": 120,
   "id": "53349a5a-6a3d-4e1a-bbd0-9d2a5a2ee8f9",
   "metadata": {},
   "outputs": [
    {
     "data": {
      "text/plain": [
       "20"
      ]
     },
     "execution_count": 120,
     "metadata": {},
     "output_type": "execute_result"
    }
   ],
   "source": [
    "name_to_age[\"liana\"]"
   ]
  },
  {
   "cell_type": "code",
   "execution_count": 121,
   "id": "7b8265ba-6505-403a-9047-6a0b1be48d9f",
   "metadata": {},
   "outputs": [
    {
     "data": {
      "text/plain": [
       "25"
      ]
     },
     "execution_count": 121,
     "metadata": {},
     "output_type": "execute_result"
    }
   ],
   "source": [
    "name_to_age[\"budi\"]"
   ]
  },
  {
   "cell_type": "code",
   "execution_count": 122,
   "id": "7c9b3f08-22f9-48d7-93f4-47d0960fe704",
   "metadata": {},
   "outputs": [
    {
     "data": {
      "text/plain": [
       "30"
      ]
     },
     "execution_count": 122,
     "metadata": {},
     "output_type": "execute_result"
    }
   ],
   "source": [
    "name_to_age[\"robin\"]"
   ]
  },
  {
   "cell_type": "code",
   "execution_count": 123,
   "id": "3d25191a-b00f-411a-b613-f7327ac46efe",
   "metadata": {},
   "outputs": [
    {
     "name": "stdout",
     "output_type": "stream",
     "text": [
      "-1 0 1\n"
     ]
    }
   ],
   "source": [
    "d = {1: -1, 2: 0, 3: 1}\n",
    "print(d[1], d[2], d[3])"
   ]
  },
  {
   "cell_type": "code",
   "execution_count": 124,
   "id": "2584b24f-1b05-4a72-afc9-6ebeeab5a001",
   "metadata": {},
   "outputs": [
    {
     "name": "stdout",
     "output_type": "stream",
     "text": [
      "['christina', 'liana', 'budi', 'joice', 'elianti', 'genta', 'qorin', 'dani']\n"
     ]
    }
   ],
   "source": [
    "print(names)"
   ]
  },
  {
   "cell_type": "code",
   "execution_count": 125,
   "id": "4ab006e3-141d-468d-af43-d42bdd7aa6d4",
   "metadata": {},
   "outputs": [
    {
     "data": {
      "text/plain": [
       "20"
      ]
     },
     "execution_count": 125,
     "metadata": {},
     "output_type": "execute_result"
    }
   ],
   "source": [
    "name_to_age[names[1]]"
   ]
  },
  {
   "cell_type": "code",
   "execution_count": 126,
   "id": "74acaccc-ec2f-42b6-8c95-0c63e7339a0c",
   "metadata": {},
   "outputs": [
    {
     "data": {
      "text/plain": [
       "{'liana': 20, 'robin': 30, 'budi': 25}"
      ]
     },
     "execution_count": 126,
     "metadata": {},
     "output_type": "execute_result"
    }
   ],
   "source": [
    "name_to_age"
   ]
  },
  {
   "cell_type": "code",
   "execution_count": 127,
   "id": "fa5a7243-ac89-4f57-9019-79f923e76e51",
   "metadata": {},
   "outputs": [
    {
     "name": "stdout",
     "output_type": "stream",
     "text": [
      "{'liana': 20, 'robin': 30, 'budi': 25, 'joice': 28, 'genta': 24}\n"
     ]
    }
   ],
   "source": [
    "name_to_age[\"joice\"] = 28\n",
    "name_to_age[\"genta\"] = 24\n",
    "print(name_to_age)"
   ]
  },
  {
   "cell_type": "code",
   "execution_count": 128,
   "id": "3c749381-1481-49a1-ae86-4e762bc91b1a",
   "metadata": {},
   "outputs": [
    {
     "name": "stdout",
     "output_type": "stream",
     "text": [
      "{'liana': 20, 'robin': 30, 'budi': 25, 'joice': 28, 'genta': 26}\n"
     ]
    }
   ],
   "source": [
    "name_to_age[\"genta\"] = 26\n",
    "print(name_to_age)"
   ]
  },
  {
   "cell_type": "code",
   "execution_count": 129,
   "id": "e1530250-98cb-4926-800f-b87492b3138a",
   "metadata": {},
   "outputs": [
    {
     "name": "stdout",
     "output_type": "stream",
     "text": [
      "{1: 2, 2: 3}\n"
     ]
    }
   ],
   "source": [
    "d = {}\n",
    "d[1] = 2\n",
    "d[2] = 3\n",
    "print(d)"
   ]
  },
  {
   "cell_type": "code",
   "execution_count": 130,
   "id": "e134f366-68ea-4e36-a312-a59de5e3ed04",
   "metadata": {},
   "outputs": [
    {
     "ename": "KeyError",
     "evalue": "'christina'",
     "output_type": "error",
     "traceback": [
      "\u001b[0;31m---------------------------------------------------------------------------\u001b[0m",
      "\u001b[0;31mKeyError\u001b[0m                                  Traceback (most recent call last)",
      "Input \u001b[0;32mIn [130]\u001b[0m, in \u001b[0;36m<cell line: 1>\u001b[0;34m()\u001b[0m\n\u001b[0;32m----> 1\u001b[0m \u001b[43mname_to_age\u001b[49m\u001b[43m[\u001b[49m\u001b[38;5;124;43m\"\u001b[39;49m\u001b[38;5;124;43mchristina\u001b[39;49m\u001b[38;5;124;43m\"\u001b[39;49m\u001b[43m]\u001b[49m\n",
      "\u001b[0;31mKeyError\u001b[0m: 'christina'"
     ]
    }
   ],
   "source": [
    "name_to_age[\"christina\"]"
   ]
  },
  {
   "cell_type": "code",
   "execution_count": 135,
   "id": "6f1b3f70-6523-4291-b844-26bdd618c953",
   "metadata": {},
   "outputs": [
    {
     "data": {
      "text/plain": [
       "25"
      ]
     },
     "execution_count": 135,
     "metadata": {},
     "output_type": "execute_result"
    }
   ],
   "source": [
    "name_to_age[\"budi\"]"
   ]
  },
  {
   "cell_type": "code",
   "execution_count": 136,
   "id": "0ce13fc3-c2bd-4ba6-b8df-9cf6bf947b86",
   "metadata": {},
   "outputs": [
    {
     "data": {
      "text/plain": [
       "'Not exist'"
      ]
     },
     "execution_count": 136,
     "metadata": {},
     "output_type": "execute_result"
    }
   ],
   "source": [
    "name_to_age.get(\"dani\", \"Not exist\")"
   ]
  }
 ],
 "metadata": {
  "kernelspec": {
   "display_name": "Python 3 (ipykernel)",
   "language": "python",
   "name": "python3"
  },
  "language_info": {
   "codemirror_mode": {
    "name": "ipython",
    "version": 3
   },
   "file_extension": ".py",
   "mimetype": "text/x-python",
   "name": "python",
   "nbconvert_exporter": "python",
   "pygments_lexer": "ipython3",
   "version": "3.9.12"
  }
 },
 "nbformat": 4,
 "nbformat_minor": 5
}
