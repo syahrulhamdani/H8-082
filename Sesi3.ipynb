{
 "cells": [
  {
   "cell_type": "markdown",
   "id": "d7781754-0766-4c52-982d-da3d0893fff5",
   "metadata": {},
   "source": [
    "# Function, Module, Package\n",
    "\n",
    "Outline:\n",
    "1. Function\n",
    "2. Module\n",
    "3. Pakcage"
   ]
  },
  {
   "cell_type": "markdown",
   "id": "b5d6ab65-ff98-4cd7-b313-3b7088b7a856",
   "metadata": {},
   "source": [
    "## Function"
   ]
  },
  {
   "cell_type": "code",
   "execution_count": 1,
   "id": "e174215f-45a8-4a29-a43a-08bc42d08d20",
   "metadata": {},
   "outputs": [
    {
     "name": "stdout",
     "output_type": "stream",
     "text": [
      "10\n"
     ]
    }
   ],
   "source": [
    "print(10)   # fungsi bawaan Python"
   ]
  },
  {
   "cell_type": "code",
   "execution_count": 2,
   "id": "bb2f1b93-1580-4d8e-9c25-32f79eb3a943",
   "metadata": {},
   "outputs": [
    {
     "name": "stdout",
     "output_type": "stream",
     "text": [
      "Hacktiv8\n"
     ]
    }
   ],
   "source": [
    "print(\"Hacktiv8\")"
   ]
  },
  {
   "cell_type": "code",
   "execution_count": 3,
   "id": "73cf09d9-ea76-4036-af3e-b73aa8938682",
   "metadata": {},
   "outputs": [
    {
     "name": "stdout",
     "output_type": "stream",
     "text": [
      "3! = 6\n"
     ]
    }
   ],
   "source": [
    "n = 3\n",
    "result = 1\n",
    "i = 1\n",
    "\n",
    "while i <= n:\n",
    "    result = result * i\n",
    "    i = i + 1\n",
    "\n",
    "print(\"{}! = {}\".format(n, result))"
   ]
  },
  {
   "cell_type": "code",
   "execution_count": 4,
   "id": "0ff54c63-53ee-4710-a7e3-31f96f9a9e8c",
   "metadata": {},
   "outputs": [
    {
     "name": "stdout",
     "output_type": "stream",
     "text": [
      "4! = 24\n"
     ]
    }
   ],
   "source": [
    "n = 4\n",
    "result = 1\n",
    "i = 1\n",
    "\n",
    "while i <= n:\n",
    "    result = result * i\n",
    "    i = i + 1\n",
    "\n",
    "print(\"{}! = {}\".format(n, result))"
   ]
  },
  {
   "cell_type": "code",
   "execution_count": 5,
   "id": "db2fe0f2-7d55-4606-a0a2-6831f1f3af91",
   "metadata": {},
   "outputs": [],
   "source": [
    "def calculate_factorial(n):\n",
    "    result = 1\n",
    "    i = 1\n",
    "\n",
    "    while i <= n:\n",
    "        result = result * i\n",
    "        i = i + 1\n",
    "\n",
    "    print(\"{}! = {}\".format(n, result))"
   ]
  },
  {
   "cell_type": "code",
   "execution_count": 6,
   "id": "34f030ae-7c9b-48ed-977b-e3e0a6542781",
   "metadata": {},
   "outputs": [
    {
     "name": "stdout",
     "output_type": "stream",
     "text": [
      "4! = 24\n"
     ]
    }
   ],
   "source": [
    "calculate_factorial(4)"
   ]
  },
  {
   "cell_type": "code",
   "execution_count": 7,
   "id": "360eb030-381d-472f-a492-dee4fb54bb12",
   "metadata": {},
   "outputs": [
    {
     "name": "stdout",
     "output_type": "stream",
     "text": [
      "2! = 2\n"
     ]
    }
   ],
   "source": [
    "calculate_factorial(2)"
   ]
  },
  {
   "cell_type": "code",
   "execution_count": 8,
   "id": "3ef39f7a-d58e-4684-8d0c-75483a1a4e67",
   "metadata": {},
   "outputs": [
    {
     "name": "stdout",
     "output_type": "stream",
     "text": [
      "10! = 3628800\n"
     ]
    }
   ],
   "source": [
    "calculate_factorial(10)"
   ]
  },
  {
   "cell_type": "code",
   "execution_count": 9,
   "id": "de4839e1-e4a5-4b70-82d2-4ec869883c01",
   "metadata": {},
   "outputs": [],
   "source": [
    "def calculate_area(p, l):\n",
    "    \"Calculate area with given `p` and `l`.\"\n",
    "    print(\"p =\", p)\n",
    "    print(\"l =\", l)\n",
    "    print(\"area =\", p * l)"
   ]
  },
  {
   "cell_type": "code",
   "execution_count": 10,
   "id": "9793b0a5-b847-459b-8137-72819769cefc",
   "metadata": {},
   "outputs": [
    {
     "name": "stdout",
     "output_type": "stream",
     "text": [
      "p = 3\n",
      "l = 5\n",
      "area = 15\n"
     ]
    }
   ],
   "source": [
    "panjang = 3\n",
    "lebar = 5\n",
    "\n",
    "calculate_area(panjang, lebar)"
   ]
  },
  {
   "cell_type": "code",
   "execution_count": 11,
   "id": "3ab5d08c-94b1-4f7b-9455-1ceaae063e54",
   "metadata": {},
   "outputs": [
    {
     "name": "stdout",
     "output_type": "stream",
     "text": [
      "p = 5\n",
      "l = 3\n",
      "area = 15\n"
     ]
    }
   ],
   "source": [
    "calculate_area(lebar, panjang)"
   ]
  },
  {
   "cell_type": "code",
   "execution_count": 12,
   "id": "49778f07-04aa-4a30-a100-b2692954af76",
   "metadata": {},
   "outputs": [
    {
     "ename": "TypeError",
     "evalue": "calculate_area() missing 1 required positional argument: 'l'",
     "output_type": "error",
     "traceback": [
      "\u001b[0;31m---------------------------------------------------------------------------\u001b[0m",
      "\u001b[0;31mTypeError\u001b[0m                                 Traceback (most recent call last)",
      "Input \u001b[0;32mIn [12]\u001b[0m, in \u001b[0;36m<cell line: 1>\u001b[0;34m()\u001b[0m\n\u001b[0;32m----> 1\u001b[0m \u001b[43mcalculate_area\u001b[49m\u001b[43m(\u001b[49m\u001b[38;5;241;43m10\u001b[39;49m\u001b[43m)\u001b[49m\n",
      "\u001b[0;31mTypeError\u001b[0m: calculate_area() missing 1 required positional argument: 'l'"
     ]
    }
   ],
   "source": [
    "calculate_area(10)"
   ]
  },
  {
   "cell_type": "code",
   "execution_count": 13,
   "id": "3a65c8c0-3e74-45c6-8304-8a1fc48194c9",
   "metadata": {},
   "outputs": [
    {
     "ename": "TypeError",
     "evalue": "calculate_factorial() takes 1 positional argument but 2 were given",
     "output_type": "error",
     "traceback": [
      "\u001b[0;31m---------------------------------------------------------------------------\u001b[0m",
      "\u001b[0;31mTypeError\u001b[0m                                 Traceback (most recent call last)",
      "Input \u001b[0;32mIn [13]\u001b[0m, in \u001b[0;36m<cell line: 1>\u001b[0;34m()\u001b[0m\n\u001b[0;32m----> 1\u001b[0m \u001b[43mcalculate_factorial\u001b[49m\u001b[43m(\u001b[49m\u001b[38;5;241;43m2\u001b[39;49m\u001b[43m,\u001b[49m\u001b[43m \u001b[49m\u001b[38;5;241;43m3\u001b[39;49m\u001b[43m)\u001b[49m\n",
      "\u001b[0;31mTypeError\u001b[0m: calculate_factorial() takes 1 positional argument but 2 were given"
     ]
    }
   ],
   "source": [
    "calculate_factorial(2, 3)"
   ]
  },
  {
   "cell_type": "code",
   "execution_count": 14,
   "id": "5004b02e-f050-408a-9f31-57544293011e",
   "metadata": {},
   "outputs": [
    {
     "name": "stdout",
     "output_type": "stream",
     "text": [
      "p = 5\n",
      "l = 3\n",
      "area = 15\n"
     ]
    }
   ],
   "source": [
    "calculate_area(p=lebar, l=panjang)"
   ]
  },
  {
   "cell_type": "code",
   "execution_count": 15,
   "id": "fb723d31-7691-46fb-8b9d-29caa37c7294",
   "metadata": {},
   "outputs": [
    {
     "name": "stdout",
     "output_type": "stream",
     "text": [
      "p = 3\n",
      "l = 5\n",
      "area = 15\n"
     ]
    }
   ],
   "source": [
    "calculate_area(l=lebar, p=panjang)"
   ]
  },
  {
   "cell_type": "code",
   "execution_count": 16,
   "id": "454ff85f-bc44-48c7-89f6-43546324cc79",
   "metadata": {},
   "outputs": [],
   "source": [
    "def repeat_words(word, n_repeat=5):\n",
    "    print(\"Repeat\", n_repeat, \"times!\")\n",
    "    print(word * n_repeat)"
   ]
  },
  {
   "cell_type": "code",
   "execution_count": 17,
   "id": "b970ab6f-8f31-4420-a919-571b9c40aa06",
   "metadata": {},
   "outputs": [
    {
     "name": "stdout",
     "output_type": "stream",
     "text": [
      "Repeat 5 times!\n",
      "hacktivhacktivhacktivhacktivhacktiv\n"
     ]
    }
   ],
   "source": [
    "repeat_words(\"hacktiv\")"
   ]
  },
  {
   "cell_type": "code",
   "execution_count": 18,
   "id": "1bc2c686-cb81-4297-93f7-a421f196f31d",
   "metadata": {},
   "outputs": [
    {
     "name": "stdout",
     "output_type": "stream",
     "text": [
      "Repeat 10 times!\n",
      "hacktivhacktivhacktivhacktivhacktivhacktivhacktivhacktivhacktivhacktiv\n"
     ]
    }
   ],
   "source": [
    "repeat_words(\"hacktiv\", 10)"
   ]
  },
  {
   "cell_type": "code",
   "execution_count": 19,
   "id": "5da852e5-f1e3-437c-887d-5fd9351ecde2",
   "metadata": {},
   "outputs": [
    {
     "ename": "TypeError",
     "evalue": "repeat_words() missing 1 required positional argument: 'word'",
     "output_type": "error",
     "traceback": [
      "\u001b[0;31m---------------------------------------------------------------------------\u001b[0m",
      "\u001b[0;31mTypeError\u001b[0m                                 Traceback (most recent call last)",
      "Input \u001b[0;32mIn [19]\u001b[0m, in \u001b[0;36m<cell line: 1>\u001b[0;34m()\u001b[0m\n\u001b[0;32m----> 1\u001b[0m \u001b[43mrepeat_words\u001b[49m\u001b[43m(\u001b[49m\u001b[43mn_repeat\u001b[49m\u001b[38;5;241;43m=\u001b[39;49m\u001b[38;5;241;43m3\u001b[39;49m\u001b[43m)\u001b[49m\n",
      "\u001b[0;31mTypeError\u001b[0m: repeat_words() missing 1 required positional argument: 'word'"
     ]
    }
   ],
   "source": [
    "repeat_words(n_repeat=3)"
   ]
  },
  {
   "cell_type": "code",
   "execution_count": 20,
   "id": "80c8aa76-9a96-4d08-87c5-df12c251d131",
   "metadata": {},
   "outputs": [
    {
     "ename": "SyntaxError",
     "evalue": "positional argument follows keyword argument (4063999073.py, line 1)",
     "output_type": "error",
     "traceback": [
      "\u001b[0;36m  Input \u001b[0;32mIn [20]\u001b[0;36m\u001b[0m\n\u001b[0;31m    repeat_words(n_repeat=3, 20)\u001b[0m\n\u001b[0m                               ^\u001b[0m\n\u001b[0;31mSyntaxError\u001b[0m\u001b[0;31m:\u001b[0m positional argument follows keyword argument\n"
     ]
    }
   ],
   "source": [
    "repeat_words(n_repeat=3, 20)"
   ]
  },
  {
   "cell_type": "code",
   "execution_count": 21,
   "id": "ed62af55-e2be-4589-af4d-bd605f392460",
   "metadata": {},
   "outputs": [
    {
     "name": "stdout",
     "output_type": "stream",
     "text": [
      "Repeat 3 times!\n",
      "202020\n"
     ]
    }
   ],
   "source": [
    "repeat_words(n_repeat=3, word=\"20\")"
   ]
  },
  {
   "cell_type": "code",
   "execution_count": 22,
   "id": "3659a08f-3f7c-4e4f-adeb-2812679b56d9",
   "metadata": {},
   "outputs": [],
   "source": [
    "def repeat_all_words(*words, n_repeat=5):\n",
    "    print(\"Repeat all words\", n_repeat, \"times!\")\n",
    "    for word in words:\n",
    "        print(word * n_repeat)"
   ]
  },
  {
   "cell_type": "code",
   "execution_count": 23,
   "id": "1492d614-cfc7-4d62-9685-b6d98a330677",
   "metadata": {},
   "outputs": [
    {
     "name": "stdout",
     "output_type": "stream",
     "text": [
      "Repeat all words 5 times!\n",
      "hacktivhacktivhacktivhacktivhacktiv\n"
     ]
    }
   ],
   "source": [
    "repeat_all_words(\"hacktiv\")"
   ]
  },
  {
   "cell_type": "code",
   "execution_count": 24,
   "id": "962a4aa7-24c5-4604-acd8-a39d294d586a",
   "metadata": {},
   "outputs": [
    {
     "name": "stdout",
     "output_type": "stream",
     "text": [
      "Repeat all words 5 times!\n",
      "hacktivhacktivhacktivhacktivhacktiv\n",
      "pythonpythonpythonpythonpython\n",
      "data sciencedata sciencedata sciencedata sciencedata science\n"
     ]
    }
   ],
   "source": [
    "repeat_all_words(\"hacktiv\", \"python\", \"data science\")"
   ]
  },
  {
   "cell_type": "code",
   "execution_count": 25,
   "id": "b333a220-c53f-4b96-ad5d-ba17330db517",
   "metadata": {},
   "outputs": [
    {
     "name": "stdout",
     "output_type": "stream",
     "text": [
      "Repeat all words 5 times!\n",
      "hacktivhacktivhacktivhacktivhacktiv\n",
      "pythonpythonpythonpythonpython\n",
      "data-sciencedata-sciencedata-sciencedata-sciencedata-science\n",
      "h8h8h8h8h8\n",
      "15\n"
     ]
    }
   ],
   "source": [
    "repeat_all_words(\"hacktiv\", \"python\", \"data-science\", \"h8\", 3)"
   ]
  },
  {
   "cell_type": "code",
   "execution_count": 26,
   "id": "ad93d076-b64b-45c9-9b8b-dcac1e323ea2",
   "metadata": {},
   "outputs": [
    {
     "name": "stdout",
     "output_type": "stream",
     "text": [
      "Repeat all words 3 times!\n",
      "hacktivhacktivhacktiv\n",
      "pythonpythonpython\n",
      "data-sciencedata-sciencedata-science\n",
      "h8h8h8\n"
     ]
    }
   ],
   "source": [
    "repeat_all_words(\"hacktiv\", \"python\", \"data-science\", \"h8\", n_repeat=3)"
   ]
  },
  {
   "cell_type": "code",
   "execution_count": 27,
   "id": "ff8394e6-7c85-4dbd-b78c-807de89e268d",
   "metadata": {},
   "outputs": [
    {
     "name": "stdout",
     "output_type": "stream",
     "text": [
      "area = 8 times! still goes on and on\n"
     ]
    }
   ],
   "source": [
    "print(\"area =\", 8, \"times!\", \"still\", \"goes\", \"on\", \"and\", \"on\")"
   ]
  },
  {
   "cell_type": "code",
   "execution_count": 28,
   "id": "302eaaf2-4a17-42e8-b04b-c596377b7f39",
   "metadata": {},
   "outputs": [
    {
     "name": "stdout",
     "output_type": "stream",
     "text": [
      "area = 100\n",
      "area = 1000\n"
     ]
    }
   ],
   "source": [
    "compute_area = lambda p, l: p * l\n",
    "print(\"area =\", compute_area(10, 10))\n",
    "print(\"area =\", compute_area(10, 100))"
   ]
  },
  {
   "cell_type": "code",
   "execution_count": 29,
   "id": "98f0c698-abcf-4593-b3b7-55c2146f80cc",
   "metadata": {},
   "outputs": [],
   "source": [
    "def factorial(n):\n",
    "    result = 1\n",
    "    i = 1\n",
    "\n",
    "    while i <= n:\n",
    "        result = result * i\n",
    "        i = i + 1\n",
    "\n",
    "    print(\"{}! = {}\".format(n, result))\n",
    "    return result"
   ]
  },
  {
   "cell_type": "code",
   "execution_count": 30,
   "id": "908df967-a972-455d-8989-9b21f40a98a9",
   "metadata": {},
   "outputs": [
    {
     "name": "stdout",
     "output_type": "stream",
     "text": [
      "3! = 6\n",
      "3! = 6\n"
     ]
    }
   ],
   "source": [
    "result_factorial_with_return = factorial(3)\n",
    "result_factorial_without_return = calculate_factorial(3)"
   ]
  },
  {
   "cell_type": "code",
   "execution_count": 31,
   "id": "47897dcc-c8f7-4715-9cbf-263e5b48c067",
   "metadata": {},
   "outputs": [
    {
     "name": "stdout",
     "output_type": "stream",
     "text": [
      "6\n",
      "None\n"
     ]
    }
   ],
   "source": [
    "print(result_factorial_with_return)\n",
    "print(result_factorial_without_return)"
   ]
  },
  {
   "cell_type": "code",
   "execution_count": 32,
   "id": "ec3da0f5-c30e-4ac7-9e59-292575b335f2",
   "metadata": {},
   "outputs": [
    {
     "name": "stdout",
     "output_type": "stream",
     "text": [
      "Total as local variable: 30\n",
      "Total as global variable: 0\n"
     ]
    }
   ],
   "source": [
    "total = 0\n",
    "\n",
    "def add(x, y):\n",
    "    total = x + y\n",
    "\n",
    "    print(\"Total as local variable:\", total)\n",
    "    return total\n",
    "\n",
    "add(10, 20)\n",
    "print(\"Total as global variable:\", total)"
   ]
  },
  {
   "cell_type": "code",
   "execution_count": 33,
   "id": "bd888832-5753-4c50-a8b5-5422ce86eed4",
   "metadata": {},
   "outputs": [],
   "source": [
    "num_cats = 20\n",
    "\n",
    "\n",
    "def count_animals():\n",
    "    num_dogs = 30\n",
    "    return num_rabbits + num_dogs\n",
    "\n",
    "\n",
    "def count_cats():\n",
    "    return num_cats + num_cats"
   ]
  },
  {
   "cell_type": "code",
   "execution_count": 34,
   "id": "c684ebbb-f32e-431c-a41f-5fe7d618c69c",
   "metadata": {},
   "outputs": [
    {
     "ename": "NameError",
     "evalue": "name 'num_rabbits' is not defined",
     "output_type": "error",
     "traceback": [
      "\u001b[0;31m---------------------------------------------------------------------------\u001b[0m",
      "\u001b[0;31mNameError\u001b[0m                                 Traceback (most recent call last)",
      "Input \u001b[0;32mIn [34]\u001b[0m, in \u001b[0;36m<cell line: 1>\u001b[0;34m()\u001b[0m\n\u001b[0;32m----> 1\u001b[0m \u001b[43mcount_animals\u001b[49m\u001b[43m(\u001b[49m\u001b[43m)\u001b[49m\n",
      "Input \u001b[0;32mIn [33]\u001b[0m, in \u001b[0;36mcount_animals\u001b[0;34m()\u001b[0m\n\u001b[1;32m      4\u001b[0m \u001b[38;5;28;01mdef\u001b[39;00m \u001b[38;5;21mcount_animals\u001b[39m():\n\u001b[1;32m      5\u001b[0m     num_dogs \u001b[38;5;241m=\u001b[39m \u001b[38;5;241m30\u001b[39m\n\u001b[0;32m----> 6\u001b[0m     \u001b[38;5;28;01mreturn\u001b[39;00m \u001b[43mnum_rabbits\u001b[49m \u001b[38;5;241m+\u001b[39m num_dogs\n",
      "\u001b[0;31mNameError\u001b[0m: name 'num_rabbits' is not defined"
     ]
    }
   ],
   "source": [
    "count_animals()"
   ]
  },
  {
   "cell_type": "code",
   "execution_count": 35,
   "id": "1df2eec6-5aad-4e26-a8d5-8eef4ecc4163",
   "metadata": {},
   "outputs": [
    {
     "data": {
      "text/plain": [
       "40"
      ]
     },
     "execution_count": 35,
     "metadata": {},
     "output_type": "execute_result"
    }
   ],
   "source": [
    "count_cats()"
   ]
  },
  {
   "cell_type": "code",
   "execution_count": 36,
   "id": "e97e6f92-cbad-4109-b076-c391613af032",
   "metadata": {},
   "outputs": [
    {
     "ename": "NameError",
     "evalue": "name 'num_rabbits' is not defined",
     "output_type": "error",
     "traceback": [
      "\u001b[0;31m---------------------------------------------------------------------------\u001b[0m",
      "\u001b[0;31mNameError\u001b[0m                                 Traceback (most recent call last)",
      "Input \u001b[0;32mIn [36]\u001b[0m, in \u001b[0;36m<cell line: 1>\u001b[0;34m()\u001b[0m\n\u001b[0;32m----> 1\u001b[0m \u001b[43mcount_animals\u001b[49m\u001b[43m(\u001b[49m\u001b[43m)\u001b[49m\n",
      "Input \u001b[0;32mIn [33]\u001b[0m, in \u001b[0;36mcount_animals\u001b[0;34m()\u001b[0m\n\u001b[1;32m      4\u001b[0m \u001b[38;5;28;01mdef\u001b[39;00m \u001b[38;5;21mcount_animals\u001b[39m():\n\u001b[1;32m      5\u001b[0m     num_dogs \u001b[38;5;241m=\u001b[39m \u001b[38;5;241m30\u001b[39m\n\u001b[0;32m----> 6\u001b[0m     \u001b[38;5;28;01mreturn\u001b[39;00m \u001b[43mnum_rabbits\u001b[49m \u001b[38;5;241m+\u001b[39m num_dogs\n",
      "\u001b[0;31mNameError\u001b[0m: name 'num_rabbits' is not defined"
     ]
    }
   ],
   "source": [
    "count_animals()"
   ]
  },
  {
   "cell_type": "code",
   "execution_count": 37,
   "id": "71d0122e-ea62-4236-a778-1c45ffad30f4",
   "metadata": {},
   "outputs": [
    {
     "data": {
      "text/plain": [
       "<function __main__.repeat_words(word, n_repeat=5)>"
      ]
     },
     "execution_count": 37,
     "metadata": {},
     "output_type": "execute_result"
    }
   ],
   "source": [
    "repeat_words"
   ]
  },
  {
   "cell_type": "markdown",
   "id": "6112e617-b8f0-4d32-a61a-f5812f8b3e43",
   "metadata": {},
   "source": [
    "## Modules"
   ]
  },
  {
   "cell_type": "code",
   "execution_count": 40,
   "id": "228494c4-7df4-4193-b2c4-b1269e58a24c",
   "metadata": {},
   "outputs": [],
   "source": [
    "from mod import repeat_words as rw\n",
    "from mod import course_name"
   ]
  },
  {
   "cell_type": "code",
   "execution_count": 39,
   "id": "9740c0e4-9a0d-41a3-92c7-ce6a028d9bed",
   "metadata": {},
   "outputs": [
    {
     "data": {
      "text/plain": [
       "<function mod.repeat_words(word, n_repeat=3)>"
      ]
     },
     "execution_count": 39,
     "metadata": {},
     "output_type": "execute_result"
    }
   ],
   "source": [
    "rw"
   ]
  },
  {
   "cell_type": "code",
   "execution_count": 41,
   "id": "85b218b5-0c6a-4738-b149-11f5f1fbfbd6",
   "metadata": {},
   "outputs": [
    {
     "name": "stdout",
     "output_type": "stream",
     "text": [
      "Repeat 5 times!\n",
      "Hacktiv8 - PTP Python for Data ScienceHacktiv8 - PTP Python for Data ScienceHacktiv8 - PTP Python for Data ScienceHacktiv8 - PTP Python for Data ScienceHacktiv8 - PTP Python for Data Science\n"
     ]
    }
   ],
   "source": [
    "repeat_words(course_name)"
   ]
  },
  {
   "cell_type": "code",
   "execution_count": 42,
   "id": "43d1fbcc-bc88-4948-b801-fa7eb543fc5b",
   "metadata": {},
   "outputs": [
    {
     "name": "stdout",
     "output_type": "stream",
     "text": [
      "Repeat 3 times!\n",
      "Hacktiv8 - PTP Python for Data ScienceHacktiv8 - PTP Python for Data ScienceHacktiv8 - PTP Python for Data Science\n"
     ]
    }
   ],
   "source": [
    "repeated = rw(course_name)"
   ]
  },
  {
   "cell_type": "code",
   "execution_count": 43,
   "id": "70e8dc05-b186-48d4-9976-278f2ed6f157",
   "metadata": {},
   "outputs": [
    {
     "data": {
      "text/plain": [
       "'Hacktiv8 - PTP Python for Data ScienceHacktiv8 - PTP Python for Data ScienceHacktiv8 - PTP Python for Data Science'"
      ]
     },
     "execution_count": 43,
     "metadata": {},
     "output_type": "execute_result"
    }
   ],
   "source": [
    "repeated"
   ]
  },
  {
   "cell_type": "code",
   "execution_count": 2,
   "id": "e86d97cc-7ee5-401c-9a39-3b25789fa36c",
   "metadata": {},
   "outputs": [
    {
     "ename": "NameError",
     "evalue": "name 'mod' is not defined",
     "output_type": "error",
     "traceback": [
      "\u001b[0;31m---------------------------------------------------------------------------\u001b[0m",
      "\u001b[0;31mNameError\u001b[0m                                 Traceback (most recent call last)",
      "Input \u001b[0;32mIn [2]\u001b[0m, in \u001b[0;36m<cell line: 1>\u001b[0;34m()\u001b[0m\n\u001b[0;32m----> 1\u001b[0m \u001b[43mmod\u001b[49m\u001b[38;5;241m.\u001b[39mcourse_name\n",
      "\u001b[0;31mNameError\u001b[0m: name 'mod' is not defined"
     ]
    }
   ],
   "source": [
    "mod.course_name"
   ]
  },
  {
   "cell_type": "code",
   "execution_count": 3,
   "id": "afc5def6-ca1d-44f2-a16b-8a6406628167",
   "metadata": {},
   "outputs": [
    {
     "data": {
      "text/plain": [
       "'Hacktiv8 - PTP Python for Data Science'"
      ]
     },
     "execution_count": 3,
     "metadata": {},
     "output_type": "execute_result"
    }
   ],
   "source": [
    "course_name"
   ]
  },
  {
   "cell_type": "code",
   "execution_count": 4,
   "id": "bc3e6335-d183-48e4-94d4-53e055e26852",
   "metadata": {},
   "outputs": [
    {
     "ename": "NameError",
     "evalue": "name 'mod' is not defined",
     "output_type": "error",
     "traceback": [
      "\u001b[0;31m---------------------------------------------------------------------------\u001b[0m",
      "\u001b[0;31mNameError\u001b[0m                                 Traceback (most recent call last)",
      "Input \u001b[0;32mIn [4]\u001b[0m, in \u001b[0;36m<cell line: 1>\u001b[0;34m()\u001b[0m\n\u001b[0;32m----> 1\u001b[0m \u001b[43mmod\u001b[49m\u001b[38;5;241m.\u001b[39mnum_students\n",
      "\u001b[0;31mNameError\u001b[0m: name 'mod' is not defined"
     ]
    }
   ],
   "source": [
    "mod.num_students"
   ]
  },
  {
   "cell_type": "code",
   "execution_count": 5,
   "id": "bf4eafb6-c7ce-47c4-8bfa-278de3126fa4",
   "metadata": {},
   "outputs": [
    {
     "ename": "NameError",
     "evalue": "name 'mod' is not defined",
     "output_type": "error",
     "traceback": [
      "\u001b[0;31m---------------------------------------------------------------------------\u001b[0m",
      "\u001b[0;31mNameError\u001b[0m                                 Traceback (most recent call last)",
      "Input \u001b[0;32mIn [5]\u001b[0m, in \u001b[0;36m<cell line: 1>\u001b[0;34m()\u001b[0m\n\u001b[0;32m----> 1\u001b[0m results \u001b[38;5;241m=\u001b[39m \u001b[43mmod\u001b[49m\u001b[38;5;241m.\u001b[39mcompute_factorial(\u001b[38;5;241m5\u001b[39m)\n\u001b[1;32m      2\u001b[0m \u001b[38;5;28mprint\u001b[39m(results)\n",
      "\u001b[0;31mNameError\u001b[0m: name 'mod' is not defined"
     ]
    }
   ],
   "source": [
    "results = mod.compute_factorial(5)\n",
    "print(results)"
   ]
  },
  {
   "cell_type": "code",
   "execution_count": 6,
   "id": "c82f9643-a321-43ee-be6a-f9da16ec9796",
   "metadata": {},
   "outputs": [
    {
     "ename": "NameError",
     "evalue": "name 'mod' is not defined",
     "output_type": "error",
     "traceback": [
      "\u001b[0;31m---------------------------------------------------------------------------\u001b[0m",
      "\u001b[0;31mNameError\u001b[0m                                 Traceback (most recent call last)",
      "Input \u001b[0;32mIn [6]\u001b[0m, in \u001b[0;36m<cell line: 1>\u001b[0;34m()\u001b[0m\n\u001b[0;32m----> 1\u001b[0m repeated \u001b[38;5;241m=\u001b[39m \u001b[43mmod\u001b[49m\u001b[38;5;241m.\u001b[39mrepeat_all_words(\u001b[38;5;124m\"\u001b[39m\u001b[38;5;124mcat\u001b[39m\u001b[38;5;124m\"\u001b[39m, \u001b[38;5;124m\"\u001b[39m\u001b[38;5;124mdog\u001b[39m\u001b[38;5;124m\"\u001b[39m, \u001b[38;5;124m\"\u001b[39m\u001b[38;5;124msnake\u001b[39m\u001b[38;5;124m\"\u001b[39m, \u001b[38;5;124m\"\u001b[39m\u001b[38;5;124mrabbit\u001b[39m\u001b[38;5;124m\"\u001b[39m, n_repeat\u001b[38;5;241m=\u001b[39m\u001b[38;5;241m10\u001b[39m)\n",
      "\u001b[0;31mNameError\u001b[0m: name 'mod' is not defined"
     ]
    }
   ],
   "source": [
    "repeated = mod.repeat_all_words(\"cat\", \"dog\", \"snake\", \"rabbit\", n_repeat=10)"
   ]
  },
  {
   "cell_type": "code",
   "execution_count": 7,
   "id": "80e528a3-9a08-48d9-8eb5-e7a082086c15",
   "metadata": {},
   "outputs": [
    {
     "ename": "NameError",
     "evalue": "name 'repeated' is not defined",
     "output_type": "error",
     "traceback": [
      "\u001b[0;31m---------------------------------------------------------------------------\u001b[0m",
      "\u001b[0;31mNameError\u001b[0m                                 Traceback (most recent call last)",
      "Input \u001b[0;32mIn [7]\u001b[0m, in \u001b[0;36m<cell line: 1>\u001b[0;34m()\u001b[0m\n\u001b[0;32m----> 1\u001b[0m \u001b[43mrepeated\u001b[49m\n",
      "\u001b[0;31mNameError\u001b[0m: name 'repeated' is not defined"
     ]
    }
   ],
   "source": [
    "repeated"
   ]
  },
  {
   "cell_type": "code",
   "execution_count": 8,
   "id": "14a9f066-8b9d-4c59-9f0c-c3cd0e5065c2",
   "metadata": {},
   "outputs": [
    {
     "ename": "NameError",
     "evalue": "name 'mod' is not defined",
     "output_type": "error",
     "traceback": [
      "\u001b[0;31m---------------------------------------------------------------------------\u001b[0m",
      "\u001b[0;31mNameError\u001b[0m                                 Traceback (most recent call last)",
      "Input \u001b[0;32mIn [8]\u001b[0m, in \u001b[0;36m<cell line: 1>\u001b[0;34m()\u001b[0m\n\u001b[0;32m----> 1\u001b[0m \u001b[43mmod\u001b[49m\n",
      "\u001b[0;31mNameError\u001b[0m: name 'mod' is not defined"
     ]
    }
   ],
   "source": [
    "mod"
   ]
  },
  {
   "cell_type": "code",
   "execution_count": 10,
   "id": "16d4bbac-56de-44ab-8ca6-9e2cdc20df25",
   "metadata": {},
   "outputs": [
    {
     "name": "stdout",
     "output_type": "stream",
     "text": [
      "Repeat 2 times!\n",
      "Hacktiv8 - PTP Python for Data ScienceHacktiv8 - PTP Python for Data Science\n"
     ]
    }
   ],
   "source": [
    "repeated = repeat_words(course_name, n_repeat=2)"
   ]
  },
  {
   "cell_type": "code",
   "execution_count": 11,
   "id": "b30e2488-a181-4528-ae61-1ae6d86cc0e0",
   "metadata": {},
   "outputs": [
    {
     "data": {
      "text/plain": [
       "'Hacktiv8 - PTP Python for Data ScienceHacktiv8 - PTP Python for Data Science'"
      ]
     },
     "execution_count": 11,
     "metadata": {},
     "output_type": "execute_result"
    }
   ],
   "source": [
    "repeated"
   ]
  },
  {
   "cell_type": "code",
   "execution_count": 48,
   "id": "2cb65284-74cc-4d07-a9c8-fdae0e7156df",
   "metadata": {},
   "outputs": [
    {
     "data": {
      "text/plain": [
       "<function __main__.repeat_words(word, n_repeat=5)>"
      ]
     },
     "execution_count": 48,
     "metadata": {},
     "output_type": "execute_result"
    }
   ],
   "source": [
    "repeat_words"
   ]
  },
  {
   "cell_type": "code",
   "execution_count": 50,
   "id": "d325d814-a743-4677-9b1e-e54ceeb37642",
   "metadata": {},
   "outputs": [
    {
     "data": {
      "text/plain": [
       "<function mod.repeat_words(word, n_repeat=5)>"
      ]
     },
     "execution_count": 50,
     "metadata": {},
     "output_type": "execute_result"
    }
   ],
   "source": [
    "repeat_words"
   ]
  },
  {
   "cell_type": "markdown",
   "id": "deb8ea7f-d6d1-4ca1-8642-bc089dd5771c",
   "metadata": {},
   "source": [
    "## Packages"
   ]
  },
  {
   "cell_type": "code",
   "execution_count": 52,
   "id": "aecacc85-ca40-4f23-9063-c71074ca01e7",
   "metadata": {},
   "outputs": [],
   "source": [
    "import hacktivate.bar, hacktivate.foo"
   ]
  },
  {
   "cell_type": "code",
   "execution_count": 50,
   "id": "53f39465-1876-4364-8bdb-970998209ae1",
   "metadata": {},
   "outputs": [
    {
     "name": "stdout",
     "output_type": "stream",
     "text": [
      "[bar.py] bar()\n"
     ]
    }
   ],
   "source": [
    "hacktivate.bar.bar()"
   ]
  },
  {
   "cell_type": "code",
   "execution_count": 51,
   "id": "0d3205f6-1b18-4bc3-bcd1-fbad99a18763",
   "metadata": {},
   "outputs": [
    {
     "data": {
      "text/plain": [
       "hacktivate.bar.Bar"
      ]
     },
     "execution_count": 51,
     "metadata": {},
     "output_type": "execute_result"
    }
   ],
   "source": [
    "hacktivate.bar.Bar"
   ]
  },
  {
   "cell_type": "code",
   "execution_count": 53,
   "id": "4e3ba938-a65d-48ce-b9a5-e337984499ad",
   "metadata": {},
   "outputs": [
    {
     "name": "stdout",
     "output_type": "stream",
     "text": [
      "[foo.py] foo()\n"
     ]
    }
   ],
   "source": [
    "hacktivate.foo.foo()"
   ]
  },
  {
   "cell_type": "code",
   "execution_count": 54,
   "id": "b46dae2c-8a61-4bc4-bdd7-fec447988eec",
   "metadata": {},
   "outputs": [
    {
     "data": {
      "text/plain": [
       "hacktivate.foo.Foo"
      ]
     },
     "execution_count": 54,
     "metadata": {},
     "output_type": "execute_result"
    }
   ],
   "source": [
    "hacktivate.foo.Foo"
   ]
  },
  {
   "cell_type": "code",
   "execution_count": 55,
   "id": "15998112-16a2-4b6b-9be4-e9ebe81fc1cc",
   "metadata": {},
   "outputs": [],
   "source": [
    "from hacktivate.foo import foo\n",
    "from hacktivate.bar import bar"
   ]
  },
  {
   "cell_type": "code",
   "execution_count": 56,
   "id": "2200c1f0-76bc-4c87-85b6-05f128be0229",
   "metadata": {},
   "outputs": [
    {
     "name": "stdout",
     "output_type": "stream",
     "text": [
      "[foo.py] foo()\n"
     ]
    }
   ],
   "source": [
    "foo()"
   ]
  },
  {
   "cell_type": "code",
   "execution_count": 57,
   "id": "714e1ddb-d362-414b-8b2a-d5e6368aab83",
   "metadata": {},
   "outputs": [
    {
     "name": "stdout",
     "output_type": "stream",
     "text": [
      "[bar.py] bar()\n"
     ]
    }
   ],
   "source": [
    "bar()"
   ]
  },
  {
   "cell_type": "code",
   "execution_count": 59,
   "id": "c4d6979f-6def-4943-b1f5-7188481ade39",
   "metadata": {},
   "outputs": [],
   "source": [
    "import hacktivate.ptp"
   ]
  },
  {
   "cell_type": "code",
   "execution_count": 61,
   "id": "cbc24ca1-76bb-4561-8530-ea7a7183861a",
   "metadata": {},
   "outputs": [
    {
     "name": "stdout",
     "output_type": "stream",
     "text": [
      "Repeat 3 times!\n",
      "Hacktiv8 - PTP Python for Data ScienceHacktiv8 - PTP Python for Data ScienceHacktiv8 - PTP Python for Data Science\n"
     ]
    },
    {
     "data": {
      "text/plain": [
       "'Hacktiv8 - PTP Python for Data ScienceHacktiv8 - PTP Python for Data ScienceHacktiv8 - PTP Python for Data Science'"
      ]
     },
     "execution_count": 61,
     "metadata": {},
     "output_type": "execute_result"
    }
   ],
   "source": [
    "hacktivate.ptp.repeat_words(course_name)"
   ]
  },
  {
   "cell_type": "code",
   "execution_count": 62,
   "id": "caf3e135-46c5-453b-8578-a4d8adcdd820",
   "metadata": {},
   "outputs": [],
   "source": [
    "import hacktivate.ptp as ptp"
   ]
  },
  {
   "cell_type": "code",
   "execution_count": 63,
   "id": "8fd6f126-1be5-4e54-a9fa-09ad5eea4587",
   "metadata": {},
   "outputs": [
    {
     "name": "stdout",
     "output_type": "stream",
     "text": [
      "10! = 3628800\n"
     ]
    },
    {
     "data": {
      "text/plain": [
       "3628800"
      ]
     },
     "execution_count": 63,
     "metadata": {},
     "output_type": "execute_result"
    }
   ],
   "source": [
    "ptp.compute_factorial(10)"
   ]
  },
  {
   "cell_type": "code",
   "execution_count": 65,
   "id": "eefde167-d377-4942-98ea-de080fcb58a9",
   "metadata": {},
   "outputs": [
    {
     "name": "stdout",
     "output_type": "stream",
     "text": [
      "Repeat all words 5 times!\n",
      "functions is all you need functions is all you need functions is all you need functions is all you need functions is all you need \n"
     ]
    }
   ],
   "source": [
    "repeated = ptp.repeat_all_words(\"functions is all you need \")"
   ]
  },
  {
   "cell_type": "code",
   "execution_count": 66,
   "id": "7297c593-5e11-4b45-bd92-cf7d4e9def3e",
   "metadata": {},
   "outputs": [
    {
     "data": {
      "text/plain": [
       "['functions is all you need functions is all you need functions is all you need functions is all you need functions is all you need ']"
      ]
     },
     "execution_count": 66,
     "metadata": {},
     "output_type": "execute_result"
    }
   ],
   "source": [
    "repeated"
   ]
  },
  {
   "cell_type": "code",
   "execution_count": null,
   "id": "6a3839da-e17d-4a33-818d-a4e75d9c4049",
   "metadata": {},
   "outputs": [],
   "source": []
  }
 ],
 "metadata": {
  "kernelspec": {
   "display_name": "Python 3 (ipykernel)",
   "language": "python",
   "name": "python3"
  },
  "language_info": {
   "codemirror_mode": {
    "name": "ipython",
    "version": 3
   },
   "file_extension": ".py",
   "mimetype": "text/x-python",
   "name": "python",
   "nbconvert_exporter": "python",
   "pygments_lexer": "ipython3",
   "version": "3.9.12"
  }
 },
 "nbformat": 4,
 "nbformat_minor": 5
}
